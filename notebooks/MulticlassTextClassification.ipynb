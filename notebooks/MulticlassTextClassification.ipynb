{
 "cells": [
  {
   "cell_type": "code",
   "execution_count": 1,
   "id": "0f70dacb",
   "metadata": {},
   "outputs": [
    {
     "name": "stderr",
     "output_type": "stream",
     "text": [
      "[nltk_data] Downloading package stopwords to\n",
      "[nltk_data]     C:\\Users\\rahul\\AppData\\Roaming\\nltk_data...\n",
      "[nltk_data]   Package stopwords is already up-to-date!\n",
      "[nltk_data] Downloading package punkt to\n",
      "[nltk_data]     C:\\Users\\rahul\\AppData\\Roaming\\nltk_data...\n",
      "[nltk_data]   Package punkt is already up-to-date!\n",
      "[nltk_data] Downloading package wordnet to\n",
      "[nltk_data]     C:\\Users\\rahul\\AppData\\Roaming\\nltk_data...\n",
      "[nltk_data]   Package wordnet is already up-to-date!\n"
     ]
    }
   ],
   "source": [
    "import numpy as np\n",
    "import pandas as pd\n",
    "\n",
    "import matplotlib.pyplot as plt\n",
    "import seaborn as sns\n",
    "\n",
    "import string\n",
    "import re\n",
    "\n",
    "import nltk\n",
    "from nltk.corpus import stopwords\n",
    "nltk.download(\"stopwords\")\n",
    "nltk.download(\"punkt\")\n",
    "from nltk.stem import WordNetLemmatizer\n",
    "nltk.download(\"wordnet\")\n",
    "\n",
    "from sklearn.feature_extraction.text import TfidfVectorizer\n",
    "from sklearn.feature_extraction.text import TfidfTransformer\n",
    "from sklearn.model_selection import train_test_split\n",
    "from sklearn.feature_selection import chi2\n",
    "from sklearn.linear_model import LogisticRegression\n",
    "from sklearn.ensemble import RandomForestClassifier\n",
    "from sklearn.svm import LinearSVC\n",
    "from sklearn.naive_bayes import MultinomialNB\n",
    "from sklearn.model_selection import cross_val_score\n",
    "from sklearn.metrics import confusion_matrix, accuracy_score, precision_score\n",
    "from sklearn import metrics"
   ]
  },
  {
   "cell_type": "code",
   "execution_count": 45,
   "id": "df3a32d8",
   "metadata": {},
   "outputs": [
    {
     "name": "stdout",
     "output_type": "stream",
     "text": [
      "(681284, 7)\n"
     ]
    }
   ],
   "source": [
    "# Loading the dataset\n",
    "df = pd.read_csv(\"../data/raw/blogtext.csv\")\n",
    "print(df.shape)"
   ]
  },
  {
   "cell_type": "code",
   "execution_count": 50,
   "id": "e55ab06c",
   "metadata": {},
   "outputs": [],
   "source": [
    "df = df.sample(n=50000, random_state=42)"
   ]
  },
  {
   "cell_type": "code",
   "execution_count": 51,
   "id": "a77d5e00",
   "metadata": {},
   "outputs": [
    {
     "data": {
      "text/plain": [
       "Index(['id', 'gender', 'age', 'topic', 'sign', 'date', 'text'], dtype='object')"
      ]
     },
     "execution_count": 51,
     "metadata": {},
     "output_type": "execute_result"
    }
   ],
   "source": [
    "df.columns"
   ]
  },
  {
   "cell_type": "code",
   "execution_count": 52,
   "id": "7cd45385",
   "metadata": {},
   "outputs": [
    {
     "data": {
      "text/plain": [
       "id        0\n",
       "gender    0\n",
       "age       0\n",
       "topic     0\n",
       "sign      0\n",
       "date      0\n",
       "text      0\n",
       "dtype: int64"
      ]
     },
     "execution_count": 52,
     "metadata": {},
     "output_type": "execute_result"
    }
   ],
   "source": [
    "df.isnull().sum()"
   ]
  },
  {
   "cell_type": "code",
   "execution_count": 53,
   "id": "62b6cfe1",
   "metadata": {},
   "outputs": [
    {
     "data": {
      "text/html": [
       "<div>\n",
       "<style scoped>\n",
       "    .dataframe tbody tr th:only-of-type {\n",
       "        vertical-align: middle;\n",
       "    }\n",
       "\n",
       "    .dataframe tbody tr th {\n",
       "        vertical-align: top;\n",
       "    }\n",
       "\n",
       "    .dataframe thead th {\n",
       "        text-align: right;\n",
       "    }\n",
       "</style>\n",
       "<table border=\"1\" class=\"dataframe\">\n",
       "  <thead>\n",
       "    <tr style=\"text-align: right;\">\n",
       "      <th></th>\n",
       "      <th>count</th>\n",
       "      <th>mean</th>\n",
       "      <th>std</th>\n",
       "      <th>min</th>\n",
       "      <th>25%</th>\n",
       "      <th>50%</th>\n",
       "      <th>75%</th>\n",
       "      <th>max</th>\n",
       "    </tr>\n",
       "  </thead>\n",
       "  <tbody>\n",
       "    <tr>\n",
       "      <th>id</th>\n",
       "      <td>50000.0</td>\n",
       "      <td>2.391699e+06</td>\n",
       "      <td>1.249844e+06</td>\n",
       "      <td>5114.0</td>\n",
       "      <td>1234212.0</td>\n",
       "      <td>2591513.0</td>\n",
       "      <td>3523319.0</td>\n",
       "      <td>4336871.0</td>\n",
       "    </tr>\n",
       "    <tr>\n",
       "      <th>age</th>\n",
       "      <td>50000.0</td>\n",
       "      <td>2.397172e+01</td>\n",
       "      <td>7.796685e+00</td>\n",
       "      <td>13.0</td>\n",
       "      <td>17.0</td>\n",
       "      <td>24.0</td>\n",
       "      <td>27.0</td>\n",
       "      <td>48.0</td>\n",
       "    </tr>\n",
       "  </tbody>\n",
       "</table>\n",
       "</div>"
      ],
      "text/plain": [
       "       count          mean           std     min        25%        50%  \\\n",
       "id   50000.0  2.391699e+06  1.249844e+06  5114.0  1234212.0  2591513.0   \n",
       "age  50000.0  2.397172e+01  7.796685e+00    13.0       17.0       24.0   \n",
       "\n",
       "           75%        max  \n",
       "id   3523319.0  4336871.0  \n",
       "age       27.0       48.0  "
      ]
     },
     "execution_count": 53,
     "metadata": {},
     "output_type": "execute_result"
    }
   ],
   "source": [
    "df.describe().T"
   ]
  },
  {
   "cell_type": "code",
   "execution_count": 54,
   "id": "0fd50867",
   "metadata": {},
   "outputs": [
    {
     "name": "stdout",
     "output_type": "stream",
     "text": [
      "<class 'pandas.core.frame.DataFrame'>\n",
      "Index: 50000 entries, 358401 to 365471\n",
      "Data columns (total 7 columns):\n",
      " #   Column  Non-Null Count  Dtype \n",
      "---  ------  --------------  ----- \n",
      " 0   id      50000 non-null  int64 \n",
      " 1   gender  50000 non-null  object\n",
      " 2   age     50000 non-null  int64 \n",
      " 3   topic   50000 non-null  object\n",
      " 4   sign    50000 non-null  object\n",
      " 5   date    50000 non-null  object\n",
      " 6   text    50000 non-null  object\n",
      "dtypes: int64(2), object(5)\n",
      "memory usage: 3.1+ MB\n"
     ]
    }
   ],
   "source": [
    "df.info()"
   ]
  },
  {
   "cell_type": "code",
   "execution_count": 55,
   "id": "4e13566e",
   "metadata": {},
   "outputs": [],
   "source": [
    "# Creating a new dataframe with two columns\n",
    "df = df[[\"sign\", \"text\"]]"
   ]
  },
  {
   "cell_type": "code",
   "execution_count": 56,
   "id": "ca927d49",
   "metadata": {},
   "outputs": [
    {
     "name": "stdout",
     "output_type": "stream",
     "text": [
      "(50000, 2)\n"
     ]
    }
   ],
   "source": [
    "print(df.shape)"
   ]
  },
  {
   "cell_type": "code",
   "execution_count": 57,
   "id": "0c6642e0",
   "metadata": {},
   "outputs": [
    {
     "data": {
      "text/html": [
       "<div>\n",
       "<style scoped>\n",
       "    .dataframe tbody tr th:only-of-type {\n",
       "        vertical-align: middle;\n",
       "    }\n",
       "\n",
       "    .dataframe tbody tr th {\n",
       "        vertical-align: top;\n",
       "    }\n",
       "\n",
       "    .dataframe thead th {\n",
       "        text-align: right;\n",
       "    }\n",
       "</style>\n",
       "<table border=\"1\" class=\"dataframe\">\n",
       "  <thead>\n",
       "    <tr style=\"text-align: right;\">\n",
       "      <th></th>\n",
       "      <th>sign</th>\n",
       "      <th>text</th>\n",
       "    </tr>\n",
       "  </thead>\n",
       "  <tbody>\n",
       "    <tr>\n",
       "      <th>358401</th>\n",
       "      <td>Leo</td>\n",
       "      <td>urlLink UNH Biodiesel Group : 'Widescale Biodiesel Production from Algae'</td>\n",
       "    </tr>\n",
       "    <tr>\n",
       "      <th>609144</th>\n",
       "      <td>Sagittarius</td>\n",
       "      <td>Friday,723/o4,&amp;nbsp;was the first day of our two day garage sale.&amp;nbsp; It di...</td>\n",
       "    </tr>\n",
       "    <tr>\n",
       "      <th>572214</th>\n",
       "      <td>Taurus</td>\n",
       "      <td>As the head line says ‘Planet-X down under’ is coming and its ready to rock and roll. Pla...</td>\n",
       "    </tr>\n",
       "    <tr>\n",
       "      <th>158338</th>\n",
       "      <td>Cancer</td>\n",
       "      <td>An Ancient-Future Message   Yes, I admit the title of this blog derives from Rober...</td>\n",
       "    </tr>\n",
       "    <tr>\n",
       "      <th>319033</th>\n",
       "      <td>Pisces</td>\n",
       "      <td>I know I've been lax in my updates, but I've been swamped. So here goes the update....</td>\n",
       "    </tr>\n",
       "  </tbody>\n",
       "</table>\n",
       "</div>"
      ],
      "text/plain": [
       "               sign  \\\n",
       "358401          Leo   \n",
       "609144  Sagittarius   \n",
       "572214       Taurus   \n",
       "158338       Cancer   \n",
       "319033       Pisces   \n",
       "\n",
       "                                                                                                       text  \n",
       "358401                   urlLink UNH Biodiesel Group : 'Widescale Biodiesel Production from Algae'           \n",
       "609144                     Friday,723/o4,&nbsp;was the first day of our two day garage sale.&nbsp; It di...  \n",
       "572214         As the head line says ‘Planet-X down under’ is coming and its ready to rock and roll. Pla...  \n",
       "158338                An Ancient-Future Message   Yes, I admit the title of this blog derives from Rober...  \n",
       "319033               I know I've been lax in my updates, but I've been swamped. So here goes the update....  "
      ]
     },
     "execution_count": 57,
     "metadata": {},
     "output_type": "execute_result"
    }
   ],
   "source": [
    "pd.set_option(\"display.max_colwidth\", 100)\n",
    "df.head()"
   ]
  },
  {
   "cell_type": "code",
   "execution_count": 58,
   "id": "9e0ccba7",
   "metadata": {},
   "outputs": [
    {
     "data": {
      "text/plain": [
       "array([['Leo'],\n",
       "       ['Sagittarius'],\n",
       "       ['Taurus'],\n",
       "       ['Cancer'],\n",
       "       ['Pisces'],\n",
       "       ['Virgo'],\n",
       "       ['Aquarius'],\n",
       "       ['Aries'],\n",
       "       ['Libra'],\n",
       "       ['Capricorn'],\n",
       "       ['Scorpio'],\n",
       "       ['Gemini']], dtype=object)"
      ]
     },
     "execution_count": 58,
     "metadata": {},
     "output_type": "execute_result"
    }
   ],
   "source": [
    "# Checking how many unique signs are there\n",
    "pd.DataFrame(df.sign.unique()).values"
   ]
  },
  {
   "cell_type": "code",
   "execution_count": 59,
   "id": "bf2b42f2",
   "metadata": {},
   "outputs": [],
   "source": [
    "# Create a new column 'sign_id' with encoded signs \n",
    "df[\"sign_id\"] = df[\"sign\"].factorize()[0]\n",
    "sign_id_df = df[[\"sign\", \"sign_id\"]].drop_duplicates()"
   ]
  },
  {
   "cell_type": "code",
   "execution_count": 60,
   "id": "9a9f6840",
   "metadata": {},
   "outputs": [
    {
     "data": {
      "text/html": [
       "<div>\n",
       "<style scoped>\n",
       "    .dataframe tbody tr th:only-of-type {\n",
       "        vertical-align: middle;\n",
       "    }\n",
       "\n",
       "    .dataframe tbody tr th {\n",
       "        vertical-align: top;\n",
       "    }\n",
       "\n",
       "    .dataframe thead th {\n",
       "        text-align: right;\n",
       "    }\n",
       "</style>\n",
       "<table border=\"1\" class=\"dataframe\">\n",
       "  <thead>\n",
       "    <tr style=\"text-align: right;\">\n",
       "      <th></th>\n",
       "      <th>sign</th>\n",
       "      <th>text</th>\n",
       "      <th>sign_id</th>\n",
       "    </tr>\n",
       "  </thead>\n",
       "  <tbody>\n",
       "    <tr>\n",
       "      <th>358401</th>\n",
       "      <td>Leo</td>\n",
       "      <td>urlLink UNH Biodiesel Group : 'Widescale Biodiesel Production from Algae'</td>\n",
       "      <td>0</td>\n",
       "    </tr>\n",
       "    <tr>\n",
       "      <th>609144</th>\n",
       "      <td>Sagittarius</td>\n",
       "      <td>Friday,723/o4,&amp;nbsp;was the first day of our two day garage sale.&amp;nbsp; It di...</td>\n",
       "      <td>1</td>\n",
       "    </tr>\n",
       "    <tr>\n",
       "      <th>572214</th>\n",
       "      <td>Taurus</td>\n",
       "      <td>As the head line says ‘Planet-X down under’ is coming and its ready to rock and roll. Pla...</td>\n",
       "      <td>2</td>\n",
       "    </tr>\n",
       "    <tr>\n",
       "      <th>158338</th>\n",
       "      <td>Cancer</td>\n",
       "      <td>An Ancient-Future Message   Yes, I admit the title of this blog derives from Rober...</td>\n",
       "      <td>3</td>\n",
       "    </tr>\n",
       "    <tr>\n",
       "      <th>319033</th>\n",
       "      <td>Pisces</td>\n",
       "      <td>I know I've been lax in my updates, but I've been swamped. So here goes the update....</td>\n",
       "      <td>4</td>\n",
       "    </tr>\n",
       "  </tbody>\n",
       "</table>\n",
       "</div>"
      ],
      "text/plain": [
       "               sign  \\\n",
       "358401          Leo   \n",
       "609144  Sagittarius   \n",
       "572214       Taurus   \n",
       "158338       Cancer   \n",
       "319033       Pisces   \n",
       "\n",
       "                                                                                                       text  \\\n",
       "358401                   urlLink UNH Biodiesel Group : 'Widescale Biodiesel Production from Algae'            \n",
       "609144                     Friday,723/o4,&nbsp;was the first day of our two day garage sale.&nbsp; It di...   \n",
       "572214         As the head line says ‘Planet-X down under’ is coming and its ready to rock and roll. Pla...   \n",
       "158338                An Ancient-Future Message   Yes, I admit the title of this blog derives from Rober...   \n",
       "319033               I know I've been lax in my updates, but I've been swamped. So here goes the update....   \n",
       "\n",
       "        sign_id  \n",
       "358401        0  \n",
       "609144        1  \n",
       "572214        2  \n",
       "158338        3  \n",
       "319033        4  "
      ]
     },
     "execution_count": 60,
     "metadata": {},
     "output_type": "execute_result"
    }
   ],
   "source": [
    "# Dictionaries for future use\n",
    "sign_to_id = dict(sign_id_df.values)\n",
    "id_to_sign = dict(sign_id_df[[\"sign_id\", \"sign\"]].values)\n",
    "\n",
    "# New dataframe\n",
    "df.head()"
   ]
  },
  {
   "cell_type": "code",
   "execution_count": 61,
   "id": "461c0847",
   "metadata": {},
   "outputs": [
    {
     "data": {
      "image/png": "[encoded data removed]",
      "text/plain": [
       "<Figure size 640x480 with 1 Axes>"
      ]
     },
     "metadata": {},
     "output_type": "display_data"
    }
   ],
   "source": [
    "# Visualize the data\n",
    "fig = plt.figure()\n",
    "df.groupby(\"sign\").text.count().sort_values().plot.barh(ylim=0)\n",
    "plt.xlabel(\"Number of ocurrences\", fontsize = 10);"
   ]
  },
  {
   "cell_type": "code",
   "execution_count": 15,
   "id": "bcdc53a2",
   "metadata": {},
   "outputs": [],
   "source": [
    "# Pre-processing the \"text\" column"
   ]
  },
  {
   "cell_type": "code",
   "execution_count": 62,
   "id": "3527ffbe",
   "metadata": {},
   "outputs": [
    {
     "data": {
      "text/plain": [
       "'!\"#$%&\\'()*+,-./:;<=>?@[\\\\]^_`{|}~'"
      ]
     },
     "execution_count": 62,
     "metadata": {},
     "output_type": "execute_result"
    }
   ],
   "source": [
    "string.punctuation"
   ]
  },
  {
   "cell_type": "code",
   "execution_count": 63,
   "id": "c7b2a206",
   "metadata": {},
   "outputs": [
    {
     "data": {
      "text/html": [
       "<div>\n",
       "<style scoped>\n",
       "    .dataframe tbody tr th:only-of-type {\n",
       "        vertical-align: middle;\n",
       "    }\n",
       "\n",
       "    .dataframe tbody tr th {\n",
       "        vertical-align: top;\n",
       "    }\n",
       "\n",
       "    .dataframe thead th {\n",
       "        text-align: right;\n",
       "    }\n",
       "</style>\n",
       "<table border=\"1\" class=\"dataframe\">\n",
       "  <thead>\n",
       "    <tr style=\"text-align: right;\">\n",
       "      <th></th>\n",
       "      <th>sign</th>\n",
       "      <th>text</th>\n",
       "      <th>sign_id</th>\n",
       "    </tr>\n",
       "  </thead>\n",
       "  <tbody>\n",
       "    <tr>\n",
       "      <th>358401</th>\n",
       "      <td>Leo</td>\n",
       "      <td>urlLink UNH Biodiesel Group  Widescale Biodiesel Production from Algae</td>\n",
       "      <td>0</td>\n",
       "    </tr>\n",
       "    <tr>\n",
       "      <th>609144</th>\n",
       "      <td>Sagittarius</td>\n",
       "      <td>Friday723o4nbspwas the first day of our two day garage salenbsp It didnt star...</td>\n",
       "      <td>1</td>\n",
       "    </tr>\n",
       "  </tbody>\n",
       "</table>\n",
       "</div>"
      ],
      "text/plain": [
       "               sign  \\\n",
       "358401          Leo   \n",
       "609144  Sagittarius   \n",
       "\n",
       "                                                                                                       text  \\\n",
       "358401                      urlLink UNH Biodiesel Group  Widescale Biodiesel Production from Algae            \n",
       "609144                     Friday723o4nbspwas the first day of our two day garage salenbsp It didnt star...   \n",
       "\n",
       "        sign_id  \n",
       "358401        0  \n",
       "609144        1  "
      ]
     },
     "execution_count": 63,
     "metadata": {},
     "output_type": "execute_result"
    }
   ],
   "source": [
    "# removing punctuation\n",
    "def remove_punctuation(text):\n",
    "    text = \"\".join([c for c in text if c not in string.punctuation])\n",
    "    return text\n",
    "\n",
    "df[\"text\"] = df[\"text\"].apply(lambda x: remove_punctuation(x))\n",
    "df.head(2)"
   ]
  },
  {
   "cell_type": "code",
   "execution_count": 64,
   "id": "4c40c7d6",
   "metadata": {},
   "outputs": [],
   "source": [
    "# removing unwanted characters\n",
    "df[\"text\"] = df[\"text\"].apply(lambda x: re.sub('[^A-Za-z0-9 ]+', \" \", x))"
   ]
  },
  {
   "cell_type": "code",
   "execution_count": 65,
   "id": "ab27a398",
   "metadata": {},
   "outputs": [],
   "source": [
    "# removing whitespaces (begining and trailing spaces)\n",
    "df[\"text\"] = df[\"text\"].apply(lambda x: x.strip())"
   ]
  },
  {
   "cell_type": "code",
   "execution_count": 89,
   "id": "a776f7e3",
   "metadata": {},
   "outputs": [
    {
     "data": {
      "text/html": [
       "<div>\n",
       "<style scoped>\n",
       "    .dataframe tbody tr th:only-of-type {\n",
       "        vertical-align: middle;\n",
       "    }\n",
       "\n",
       "    .dataframe tbody tr th {\n",
       "        vertical-align: top;\n",
       "    }\n",
       "\n",
       "    .dataframe thead th {\n",
       "        text-align: right;\n",
       "    }\n",
       "</style>\n",
       "<table border=\"1\" class=\"dataframe\">\n",
       "  <thead>\n",
       "    <tr style=\"text-align: right;\">\n",
       "      <th></th>\n",
       "      <th>sign</th>\n",
       "      <th>text</th>\n",
       "      <th>sign_id</th>\n",
       "    </tr>\n",
       "  </thead>\n",
       "  <tbody>\n",
       "    <tr>\n",
       "      <th>358401</th>\n",
       "      <td>Leo</td>\n",
       "      <td>urllink unh biodiesel group widescale biodiesel production algae</td>\n",
       "      <td>0</td>\n",
       "    </tr>\n",
       "    <tr>\n",
       "      <th>609144</th>\n",
       "      <td>Sagittarius</td>\n",
       "      <td>friday723o4nbspwas first day two day garage salenbsp didnt start great supposed set 9 friend did...</td>\n",
       "      <td>1</td>\n",
       "    </tr>\n",
       "    <tr>\n",
       "      <th>572214</th>\n",
       "      <td>Taurus</td>\n",
       "      <td>head line say planetx coming ready rock roll planetx possibly biggest bikeroller skatemotorbikes...</td>\n",
       "      <td>2</td>\n",
       "    </tr>\n",
       "    <tr>\n",
       "      <th>158338</th>\n",
       "      <td>Cancer</td>\n",
       "      <td>ancientfuture message yes admit title blog derives robert webbers book ancientfuture faith webbe...</td>\n",
       "      <td>3</td>\n",
       "    </tr>\n",
       "    <tr>\n",
       "      <th>319033</th>\n",
       "      <td>Pisces</td>\n",
       "      <td>know ive lax update ive swamped go update friday night went husky village intern staying party d...</td>\n",
       "      <td>4</td>\n",
       "    </tr>\n",
       "  </tbody>\n",
       "</table>\n",
       "</div>"
      ],
      "text/plain": [
       "               sign  \\\n",
       "358401          Leo   \n",
       "609144  Sagittarius   \n",
       "572214       Taurus   \n",
       "158338       Cancer   \n",
       "319033       Pisces   \n",
       "\n",
       "                                                                                                       text  \\\n",
       "358401                                     urllink unh biodiesel group widescale biodiesel production algae   \n",
       "609144  friday723o4nbspwas first day two day garage salenbsp didnt start great supposed set 9 friend did...   \n",
       "572214  head line say planetx coming ready rock roll planetx possibly biggest bikeroller skatemotorbikes...   \n",
       "158338  ancientfuture message yes admit title blog derives robert webbers book ancientfuture faith webbe...   \n",
       "319033  know ive lax update ive swamped go update friday night went husky village intern staying party d...   \n",
       "\n",
       "        sign_id  \n",
       "358401        0  \n",
       "609144        1  \n",
       "572214        2  \n",
       "158338        3  \n",
       "319033        4  "
      ]
     },
     "execution_count": 89,
     "metadata": {},
     "output_type": "execute_result"
    }
   ],
   "source": [
    "# replacing more than 1 spaces with single space\n",
    "df[\"text\"] = df[\"text\"].str.replace(r\"\\s\\s+\", \" \")\n",
    "df.head()"
   ]
  },
  {
   "cell_type": "code",
   "execution_count": 67,
   "id": "05b0a499",
   "metadata": {},
   "outputs": [
    {
     "data": {
      "text/html": [
       "<div>\n",
       "<style scoped>\n",
       "    .dataframe tbody tr th:only-of-type {\n",
       "        vertical-align: middle;\n",
       "    }\n",
       "\n",
       "    .dataframe tbody tr th {\n",
       "        vertical-align: top;\n",
       "    }\n",
       "\n",
       "    .dataframe thead th {\n",
       "        text-align: right;\n",
       "    }\n",
       "</style>\n",
       "<table border=\"1\" class=\"dataframe\">\n",
       "  <thead>\n",
       "    <tr style=\"text-align: right;\">\n",
       "      <th></th>\n",
       "      <th>sign</th>\n",
       "      <th>text</th>\n",
       "      <th>sign_id</th>\n",
       "    </tr>\n",
       "  </thead>\n",
       "  <tbody>\n",
       "    <tr>\n",
       "      <th>358401</th>\n",
       "      <td>Leo</td>\n",
       "      <td>[urllink, unh, biodiesel, group, widescale, biodiesel, production, from, algae]</td>\n",
       "      <td>0</td>\n",
       "    </tr>\n",
       "    <tr>\n",
       "      <th>609144</th>\n",
       "      <td>Sagittarius</td>\n",
       "      <td>[friday723o4nbspwas, the, first, day, of, our, two, day, garage, salenbsp, it, didnt, start, out...</td>\n",
       "      <td>1</td>\n",
       "    </tr>\n",
       "    <tr>\n",
       "      <th>572214</th>\n",
       "      <td>Taurus</td>\n",
       "      <td>[as, the, head, line, says, planetx, down, under, is, coming, and, its, ready, to, rock, and, ro...</td>\n",
       "      <td>2</td>\n",
       "    </tr>\n",
       "    <tr>\n",
       "      <th>158338</th>\n",
       "      <td>Cancer</td>\n",
       "      <td>[an, ancientfuture, message, yes, i, admit, the, title, of, this, blog, derives, from, robert, w...</td>\n",
       "      <td>3</td>\n",
       "    </tr>\n",
       "    <tr>\n",
       "      <th>319033</th>\n",
       "      <td>Pisces</td>\n",
       "      <td>[i, know, ive, been, lax, in, my, updates, but, ive, been, swamped, so, here, goes, the, update,...</td>\n",
       "      <td>4</td>\n",
       "    </tr>\n",
       "  </tbody>\n",
       "</table>\n",
       "</div>"
      ],
      "text/plain": [
       "               sign  \\\n",
       "358401          Leo   \n",
       "609144  Sagittarius   \n",
       "572214       Taurus   \n",
       "158338       Cancer   \n",
       "319033       Pisces   \n",
       "\n",
       "                                                                                                       text  \\\n",
       "358401                      [urllink, unh, biodiesel, group, widescale, biodiesel, production, from, algae]   \n",
       "609144  [friday723o4nbspwas, the, first, day, of, our, two, day, garage, salenbsp, it, didnt, start, out...   \n",
       "572214  [as, the, head, line, says, planetx, down, under, is, coming, and, its, ready, to, rock, and, ro...   \n",
       "158338  [an, ancientfuture, message, yes, i, admit, the, title, of, this, blog, derives, from, robert, w...   \n",
       "319033  [i, know, ive, been, lax, in, my, updates, but, ive, been, swamped, so, here, goes, the, update,...   \n",
       "\n",
       "        sign_id  \n",
       "358401        0  \n",
       "609144        1  \n",
       "572214        2  \n",
       "158338        3  \n",
       "319033        4  "
      ]
     },
     "execution_count": 67,
     "metadata": {},
     "output_type": "execute_result"
    }
   ],
   "source": [
    "# tokenization\n",
    "def tokenize(text):\n",
    "    tokens = re.split(\"\\W+\", text)\n",
    "    return tokens\n",
    "\n",
    "df[\"text\"] = df[\"text\"].apply(lambda x: tokenize(x.lower()))\n",
    "df.head()"
   ]
  },
  {
   "cell_type": "code",
   "execution_count": 68,
   "id": "c88dac5a",
   "metadata": {},
   "outputs": [
    {
     "data": {
      "text/plain": [
       "['i', 'me', 'my', 'myself', 'we', 'our', 'ours', 'ourselves', 'you', \"you're\"]"
      ]
     },
     "execution_count": 68,
     "metadata": {},
     "output_type": "execute_result"
    }
   ],
   "source": [
    "# removing stopwords\n",
    "stopwords = nltk.corpus.stopwords.words(\"english\")\n",
    "stopwords[0:10]"
   ]
  },
  {
   "cell_type": "code",
   "execution_count": 69,
   "id": "a55cd480",
   "metadata": {},
   "outputs": [
    {
     "data": {
      "text/html": [
       "<div>\n",
       "<style scoped>\n",
       "    .dataframe tbody tr th:only-of-type {\n",
       "        vertical-align: middle;\n",
       "    }\n",
       "\n",
       "    .dataframe tbody tr th {\n",
       "        vertical-align: top;\n",
       "    }\n",
       "\n",
       "    .dataframe thead th {\n",
       "        text-align: right;\n",
       "    }\n",
       "</style>\n",
       "<table border=\"1\" class=\"dataframe\">\n",
       "  <thead>\n",
       "    <tr style=\"text-align: right;\">\n",
       "      <th></th>\n",
       "      <th>sign</th>\n",
       "      <th>text</th>\n",
       "      <th>sign_id</th>\n",
       "    </tr>\n",
       "  </thead>\n",
       "  <tbody>\n",
       "    <tr>\n",
       "      <th>358401</th>\n",
       "      <td>Leo</td>\n",
       "      <td>[urllink, unh, biodiesel, group, widescale, biodiesel, production, algae]</td>\n",
       "      <td>0</td>\n",
       "    </tr>\n",
       "    <tr>\n",
       "      <th>609144</th>\n",
       "      <td>Sagittarius</td>\n",
       "      <td>[friday723o4nbspwas, first, day, two, day, garage, salenbsp, didnt, start, great, supposed, set,...</td>\n",
       "      <td>1</td>\n",
       "    </tr>\n",
       "    <tr>\n",
       "      <th>572214</th>\n",
       "      <td>Taurus</td>\n",
       "      <td>[head, line, says, planetx, coming, ready, rock, roll, planetx, possibly, biggest, bikeroller, s...</td>\n",
       "      <td>2</td>\n",
       "    </tr>\n",
       "    <tr>\n",
       "      <th>158338</th>\n",
       "      <td>Cancer</td>\n",
       "      <td>[ancientfuture, message, yes, admit, title, blog, derives, robert, webbers, book, ancientfuture,...</td>\n",
       "      <td>3</td>\n",
       "    </tr>\n",
       "    <tr>\n",
       "      <th>319033</th>\n",
       "      <td>Pisces</td>\n",
       "      <td>[know, ive, lax, updates, ive, swamped, goes, update, friday, night, went, husky, village, inter...</td>\n",
       "      <td>4</td>\n",
       "    </tr>\n",
       "  </tbody>\n",
       "</table>\n",
       "</div>"
      ],
      "text/plain": [
       "               sign  \\\n",
       "358401          Leo   \n",
       "609144  Sagittarius   \n",
       "572214       Taurus   \n",
       "158338       Cancer   \n",
       "319033       Pisces   \n",
       "\n",
       "                                                                                                       text  \\\n",
       "358401                            [urllink, unh, biodiesel, group, widescale, biodiesel, production, algae]   \n",
       "609144  [friday723o4nbspwas, first, day, two, day, garage, salenbsp, didnt, start, great, supposed, set,...   \n",
       "572214  [head, line, says, planetx, coming, ready, rock, roll, planetx, possibly, biggest, bikeroller, s...   \n",
       "158338  [ancientfuture, message, yes, admit, title, blog, derives, robert, webbers, book, ancientfuture,...   \n",
       "319033  [know, ive, lax, updates, ive, swamped, goes, update, friday, night, went, husky, village, inter...   \n",
       "\n",
       "        sign_id  \n",
       "358401        0  \n",
       "609144        1  \n",
       "572214        2  \n",
       "158338        3  \n",
       "319033        4  "
      ]
     },
     "execution_count": 69,
     "metadata": {},
     "output_type": "execute_result"
    }
   ],
   "source": [
    "def remove_stopwords(text):\n",
    "    text = [word for word in text if word not in stopwords]\n",
    "    return text\n",
    "\n",
    "df[\"text\"] = df[\"text\"].apply(lambda x: remove_stopwords(x))\n",
    "df.head()"
   ]
  },
  {
   "cell_type": "code",
   "execution_count": 70,
   "id": "7ab11f9d",
   "metadata": {},
   "outputs": [],
   "source": [
    "wn = nltk.WordNetLemmatizer()"
   ]
  },
  {
   "cell_type": "code",
   "execution_count": 71,
   "id": "f9273802",
   "metadata": {},
   "outputs": [
    {
     "data": {
      "text/html": [
       "<div>\n",
       "<style scoped>\n",
       "    .dataframe tbody tr th:only-of-type {\n",
       "        vertical-align: middle;\n",
       "    }\n",
       "\n",
       "    .dataframe tbody tr th {\n",
       "        vertical-align: top;\n",
       "    }\n",
       "\n",
       "    .dataframe thead th {\n",
       "        text-align: right;\n",
       "    }\n",
       "</style>\n",
       "<table border=\"1\" class=\"dataframe\">\n",
       "  <thead>\n",
       "    <tr style=\"text-align: right;\">\n",
       "      <th></th>\n",
       "      <th>sign</th>\n",
       "      <th>text</th>\n",
       "      <th>sign_id</th>\n",
       "    </tr>\n",
       "  </thead>\n",
       "  <tbody>\n",
       "    <tr>\n",
       "      <th>358401</th>\n",
       "      <td>Leo</td>\n",
       "      <td>urllink unh biodiesel group widescale biodiesel production algae</td>\n",
       "      <td>0</td>\n",
       "    </tr>\n",
       "    <tr>\n",
       "      <th>609144</th>\n",
       "      <td>Sagittarius</td>\n",
       "      <td>friday723o4nbspwas first day two day garage salenbsp didnt start great supposed set 9 friend did...</td>\n",
       "      <td>1</td>\n",
       "    </tr>\n",
       "    <tr>\n",
       "      <th>572214</th>\n",
       "      <td>Taurus</td>\n",
       "      <td>head line say planetx coming ready rock roll planetx possibly biggest bikeroller skatemotorbikes...</td>\n",
       "      <td>2</td>\n",
       "    </tr>\n",
       "    <tr>\n",
       "      <th>158338</th>\n",
       "      <td>Cancer</td>\n",
       "      <td>ancientfuture message yes admit title blog derives robert webbers book ancientfuture faith webbe...</td>\n",
       "      <td>3</td>\n",
       "    </tr>\n",
       "    <tr>\n",
       "      <th>319033</th>\n",
       "      <td>Pisces</td>\n",
       "      <td>know ive lax update ive swamped go update friday night went husky village intern staying party d...</td>\n",
       "      <td>4</td>\n",
       "    </tr>\n",
       "  </tbody>\n",
       "</table>\n",
       "</div>"
      ],
      "text/plain": [
       "               sign  \\\n",
       "358401          Leo   \n",
       "609144  Sagittarius   \n",
       "572214       Taurus   \n",
       "158338       Cancer   \n",
       "319033       Pisces   \n",
       "\n",
       "                                                                                                       text  \\\n",
       "358401                                     urllink unh biodiesel group widescale biodiesel production algae   \n",
       "609144  friday723o4nbspwas first day two day garage salenbsp didnt start great supposed set 9 friend did...   \n",
       "572214  head line say planetx coming ready rock roll planetx possibly biggest bikeroller skatemotorbikes...   \n",
       "158338  ancientfuture message yes admit title blog derives robert webbers book ancientfuture faith webbe...   \n",
       "319033  know ive lax update ive swamped go update friday night went husky village intern staying party d...   \n",
       "\n",
       "        sign_id  \n",
       "358401        0  \n",
       "609144        1  \n",
       "572214        2  \n",
       "158338        3  \n",
       "319033        4  "
      ]
     },
     "execution_count": 71,
     "metadata": {},
     "output_type": "execute_result"
    }
   ],
   "source": [
    "# lemmatization\n",
    "def lemmatization(text):\n",
    "    text = [wn.lemmatize(word) for word in text]\n",
    "    return \" \".join(text)\n",
    "\n",
    "df[\"text\"] = df[\"text\"].apply(lambda x: lemmatization(x))\n",
    "df.head()"
   ]
  },
  {
   "cell_type": "code",
   "execution_count": 26,
   "id": "0ac15273",
   "metadata": {},
   "outputs": [],
   "source": [
    "# Further Text processing using TF-IDF"
   ]
  },
  {
   "cell_type": "code",
   "execution_count": 102,
   "id": "d480df68",
   "metadata": {},
   "outputs": [],
   "source": [
    "tfidf = TfidfVectorizer(sublinear_tf=True, min_df=0.05, max_features=800, ngram_range=(1,2), stop_words=\"english\")"
   ]
  },
  {
   "cell_type": "code",
   "execution_count": 103,
   "id": "9a697b64",
   "metadata": {},
   "outputs": [
    {
     "name": "stdout",
     "output_type": "stream",
     "text": [
      "(50000, 184)\n"
     ]
    }
   ],
   "source": [
    "# Transforming each text into a vector\n",
    "features = tfidf.fit_transform(df.text).toarray()\n",
    "labels = df.sign_id\n",
    "print(features.shape)"
   ]
  },
  {
   "cell_type": "code",
   "execution_count": 104,
   "id": "87eb4944",
   "metadata": {},
   "outputs": [
    {
     "data": {
      "text/plain": [
       "{'urllink': 159,\n",
       " 'day': 22,\n",
       " 'didnt': 24,\n",
       " 'start': 136,\n",
       " 'great': 49,\n",
       " 'friend': 38,\n",
       " 'thing': 146,\n",
       " 'going': 45,\n",
       " 'able': 0,\n",
       " 'quite': 118,\n",
       " 'bit': 9,\n",
       " 'went': 170,\n",
       " 'house': 63,\n",
       " 'like': 80,\n",
       " 'good': 47,\n",
       " 'head': 57,\n",
       " 'say': 128,\n",
       " 'coming': 18,\n",
       " 'yes': 181,\n",
       " 'blog': 10,\n",
       " 'book': 11,\n",
       " 'today': 151,\n",
       " 'time': 150,\n",
       " 'away': 3,\n",
       " 'long': 83,\n",
       " 'little': 81,\n",
       " 'ive': 70,\n",
       " 'reason': 122,\n",
       " 'people': 108,\n",
       " 'come': 17,\n",
       " 'life': 79,\n",
       " 'write': 177,\n",
       " 'mind': 93,\n",
       " 'way': 167,\n",
       " 'idea': 65,\n",
       " 'person': 109,\n",
       " 'god': 44,\n",
       " 'world': 176,\n",
       " 'live': 82,\n",
       " 'know': 74,\n",
       " 'looking': 85,\n",
       " 'night': 103,\n",
       " 'left': 77,\n",
       " 'kid': 72,\n",
       " 'game': 41,\n",
       " 'make': 88,\n",
       " 'guess': 50,\n",
       " 'end': 29,\n",
       " 'actually': 1,\n",
       " 'funny': 40,\n",
       " 'really': 121,\n",
       " 'hand': 52,\n",
       " 'making': 89,\n",
       " 'room': 125,\n",
       " 'old': 106,\n",
       " 'song': 133,\n",
       " 'mean': 92,\n",
       " 'point': 113,\n",
       " 'care': 15,\n",
       " 'turn': 158,\n",
       " 'yeah': 179,\n",
       " 'girl': 43,\n",
       " 'car': 14,\n",
       " 'guy': 51,\n",
       " 'home': 60,\n",
       " 'place': 111,\n",
       " 'took': 155,\n",
       " 'hour': 62,\n",
       " 'got': 48,\n",
       " 'minute': 94,\n",
       " 'called': 12,\n",
       " 'maybe': 91,\n",
       " 'decided': 23,\n",
       " 'saw': 127,\n",
       " 'oh': 104,\n",
       " 'ill': 66,\n",
       " 'tell': 144,\n",
       " 'fun': 39,\n",
       " 'movie': 99,\n",
       " 'word': 173,\n",
       " 'youre': 183,\n",
       " 'best': 6,\n",
       " 'change': 16,\n",
       " 'work': 174,\n",
       " 'im': 67,\n",
       " 'mom': 95,\n",
       " 'need': 100,\n",
       " 'hate': 55,\n",
       " 'dont': 27,\n",
       " 'think': 147,\n",
       " 'sound': 135,\n",
       " 'trying': 157,\n",
       " 'leave': 76,\n",
       " 'wanted': 164,\n",
       " 'said': 126,\n",
       " 'new': 101,\n",
       " 'post': 114,\n",
       " 'try': 156,\n",
       " 'dont know': 28,\n",
       " 'im going': 68,\n",
       " 'wish': 171,\n",
       " 'cool': 19,\n",
       " 'seen': 131,\n",
       " 'big': 8,\n",
       " 'let': 78,\n",
       " 'problem': 117,\n",
       " 'gonna': 46,\n",
       " 'wasnt': 165,\n",
       " 'bad': 4,\n",
       " 'tomorrow': 153,\n",
       " 'picture': 110,\n",
       " 'stop': 138,\n",
       " 'nice': 102,\n",
       " 'week': 168,\n",
       " 'wait': 162,\n",
       " 'came': 13,\n",
       " 'far': 34,\n",
       " 'ok': 105,\n",
       " 'thinking': 148,\n",
       " 'remember': 123,\n",
       " 'right': 124,\n",
       " 'past': 107,\n",
       " 'hell': 58,\n",
       " 'later': 75,\n",
       " 'thought': 149,\n",
       " 'told': 152,\n",
       " 'happy': 53,\n",
       " 'started': 137,\n",
       " 'sure': 141,\n",
       " 'feeling': 36,\n",
       " 'isnt': 69,\n",
       " 'getting': 42,\n",
       " 'sleep': 132,\n",
       " 'feel': 35,\n",
       " 'talk': 142,\n",
       " 'look': 84,\n",
       " 'want': 163,\n",
       " 'play': 112,\n",
       " 'id': 64,\n",
       " 'soon': 134,\n",
       " 'read': 119,\n",
       " 'story': 139,\n",
       " 'thats': 145,\n",
       " 'help': 59,\n",
       " 'yesterday': 182,\n",
       " 'man': 90,\n",
       " 'used': 161,\n",
       " 'tonight': 154,\n",
       " 'pretty': 115,\n",
       " 'watch': 166,\n",
       " 'love': 87,\n",
       " 'wont': 172,\n",
       " 'probably': 116,\n",
       " 'school': 129,\n",
       " 'year': 180,\n",
       " 'wrong': 178,\n",
       " 'hard': 54,\n",
       " 'couple': 20,\n",
       " 'use': 160,\n",
       " 'lot': 86,\n",
       " 'ago': 2,\n",
       " 'finally': 37,\n",
       " 'doesnt': 26,\n",
       " 'talking': 143,\n",
       " 'second': 130,\n",
       " 'kind': 73,\n",
       " 'different': 25,\n",
       " 'havent': 56,\n",
       " 'stuff': 140,\n",
       " 'hope': 61,\n",
       " 'better': 7,\n",
       " 'morning': 98,\n",
       " 'family': 33,\n",
       " 'weekend': 169,\n",
       " 'eye': 30,\n",
       " 'face': 31,\n",
       " 'course': 21,\n",
       " 'fact': 32,\n",
       " 'month': 97,\n",
       " 'real': 120,\n",
       " 'working': 175,\n",
       " 'money': 96,\n",
       " 'job': 71,\n",
       " 'believe': 5}"
      ]
     },
     "execution_count": 104,
     "metadata": {},
     "output_type": "execute_result"
    }
   ],
   "source": [
    "tfidf.vocabulary_"
   ]
  },
  {
   "cell_type": "code",
   "execution_count": 106,
   "id": "3e82284e",
   "metadata": {},
   "outputs": [
    {
     "name": "stdout",
     "output_type": "stream",
     "text": [
      "n--> Aquarius:\n",
      "  * Most Correlated Unigrams are: people, book, school\n",
      "  * Most Correlated Bigrams are: dont know, im going\n",
      "n--> Aries:\n",
      "  * Most Correlated Unigrams are: watch, tomorrow, job\n",
      "  * Most Correlated Bigrams are: im going, dont know\n",
      "n--> Cancer:\n",
      "  * Most Correlated Unigrams are: real, im, ok\n",
      "  * Most Correlated Bigrams are: dont know, im going\n",
      "n--> Capricorn:\n",
      "  * Most Correlated Unigrams are: bit, havent, gonna\n",
      "  * Most Correlated Bigrams are: im going, dont know\n",
      "n--> Gemini:\n",
      "  * Most Correlated Unigrams are: job, movie, point\n",
      "  * Most Correlated Bigrams are: im going, dont know\n",
      "n--> Leo:\n",
      "  * Most Correlated Unigrams are: urllink, used, picture\n",
      "  * Most Correlated Bigrams are: im going, dont know\n",
      "n--> Libra:\n",
      "  * Most Correlated Unigrams are: im, ok, urllink\n",
      "  * Most Correlated Bigrams are: dont know, im going\n",
      "n--> Pisces:\n",
      "  * Most Correlated Unigrams are: house, happy, ok\n",
      "  * Most Correlated Bigrams are: im going, dont know\n",
      "n--> Sagittarius:\n",
      "  * Most Correlated Unigrams are: away, god, new\n",
      "  * Most Correlated Bigrams are: im going, dont know\n",
      "n--> Scorpio:\n",
      "  * Most Correlated Unigrams are: soon, story, wont\n",
      "  * Most Correlated Bigrams are: dont know, im going\n",
      "n--> Taurus:\n",
      "  * Most Correlated Unigrams are: trying, started, oh\n",
      "  * Most Correlated Bigrams are: im going, dont know\n",
      "n--> Virgo:\n",
      "  * Most Correlated Unigrams are: started, mom, tonight\n",
      "  * Most Correlated Bigrams are: dont know, im going\n"
     ]
    }
   ],
   "source": [
    "# Finding the two most correlated terms with each of the sign categories\n",
    "N = 3\n",
    "for sign, sign_id in sorted(sign_to_id.items()):\n",
    "    features_chi2 = chi2(features, labels == sign_id)\n",
    "    indices = np.argsort(features_chi2[0])\n",
    "    feature_names = np.array(tfidf.get_feature_names_out())[indices]\n",
    "    unigrams = [v for v in feature_names if len(v.split(\" \")) == 1]\n",
    "    bigrams = [v for v in feature_names if len(v.split(\" \")) == 2]\n",
    "    print(\"n--> %s:\" %(sign))\n",
    "    print(\"  * Most Correlated Unigrams are: %s\" %(\", \".join(unigrams[-N:])))\n",
    "    print(\"  * Most Correlated Bigrams are: %s\" %(\", \".join(bigrams[-N:])))"
   ]
  },
  {
   "cell_type": "code",
   "execution_count": 30,
   "id": "45f2f6ab",
   "metadata": {},
   "outputs": [],
   "source": [
    "# Multi-classification Modeling"
   ]
  },
  {
   "cell_type": "code",
   "execution_count": 107,
   "id": "c1e78d39",
   "metadata": {},
   "outputs": [],
   "source": [
    "X = df[\"text\"] # Collection of blogs\n",
    "y = df[\"sign\"] # Target or the labels we want to predict (i.e. the 12 different zodiac signs)\n",
    "X_train, X_test, y_train, y_test = train_test_split(X, y, test_size=0.3, random_state = 42)"
   ]
  },
  {
   "cell_type": "code",
   "execution_count": 108,
   "id": "a2ff43d1",
   "metadata": {},
   "outputs": [],
   "source": [
    "models = [\n",
    "    RandomForestClassifier(n_estimators=100, random_state=42),\n",
    "    LinearSVC(),\n",
    "    MultinomialNB(),\n",
    "    LogisticRegression(random_state=42),\n",
    "]\n",
    "# Cross-validation\n",
    "CV = 5\n",
    "cv_df = pd.DataFrame(index=range(CV * len(models)))\n",
    "entries = []\n",
    "for model in models:   \n",
    "    model_name = model.__class__.__name__\n",
    "    accuracies = cross_val_score(model, features, labels, scoring=\"accuracy\", cv=CV)\n",
    "    for fold_idx, accuracy in enumerate(accuracies):\n",
    "        entries.append((model_name, fold_idx, accuracy))\n",
    "cv_df = pd.DataFrame(entries, columns=[\"model_name\", \"fold_idx\", \"accuracy\"])"
   ]
  },
  {
   "cell_type": "code",
   "execution_count": 84,
   "id": "cba8e630",
   "metadata": {},
   "outputs": [],
   "source": [
    "# Compare Text Classification Model performance"
   ]
  },
  {
   "cell_type": "code",
   "execution_count": 109,
   "id": "abfc93a1",
   "metadata": {},
   "outputs": [
    {
     "data": {
      "text/html": [
       "<div>\n",
       "<style scoped>\n",
       "    .dataframe tbody tr th:only-of-type {\n",
       "        vertical-align: middle;\n",
       "    }\n",
       "\n",
       "    .dataframe tbody tr th {\n",
       "        vertical-align: top;\n",
       "    }\n",
       "\n",
       "    .dataframe thead th {\n",
       "        text-align: right;\n",
       "    }\n",
       "</style>\n",
       "<table border=\"1\" class=\"dataframe\">\n",
       "  <thead>\n",
       "    <tr style=\"text-align: right;\">\n",
       "      <th></th>\n",
       "      <th>Mean Accuracy</th>\n",
       "      <th>Standard deviation</th>\n",
       "    </tr>\n",
       "    <tr>\n",
       "      <th>model_name</th>\n",
       "      <th></th>\n",
       "      <th></th>\n",
       "    </tr>\n",
       "  </thead>\n",
       "  <tbody>\n",
       "    <tr>\n",
       "      <th>LinearSVC</th>\n",
       "      <td>0.10046</td>\n",
       "      <td>0.004056</td>\n",
       "    </tr>\n",
       "    <tr>\n",
       "      <th>LogisticRegression</th>\n",
       "      <td>0.10092</td>\n",
       "      <td>0.003461</td>\n",
       "    </tr>\n",
       "    <tr>\n",
       "      <th>MultinomialNB</th>\n",
       "      <td>0.10264</td>\n",
       "      <td>0.002390</td>\n",
       "    </tr>\n",
       "    <tr>\n",
       "      <th>RandomForestClassifier</th>\n",
       "      <td>0.09836</td>\n",
       "      <td>0.003626</td>\n",
       "    </tr>\n",
       "  </tbody>\n",
       "</table>\n",
       "</div>"
      ],
      "text/plain": [
       "                        Mean Accuracy  Standard deviation\n",
       "model_name                                               \n",
       "LinearSVC                     0.10046            0.004056\n",
       "LogisticRegression            0.10092            0.003461\n",
       "MultinomialNB                 0.10264            0.002390\n",
       "RandomForestClassifier        0.09836            0.003626"
      ]
     },
     "execution_count": 109,
     "metadata": {},
     "output_type": "execute_result"
    }
   ],
   "source": [
    "mean_accuracy = cv_df.groupby(\"model_name\").accuracy.mean()\n",
    "std_accuracy = cv_df.groupby(\"model_name\").accuracy.std()\n",
    "\n",
    "acc = pd.concat([mean_accuracy, std_accuracy], axis=1, ignore_index=True)\n",
    "acc.columns = [\"Mean Accuracy\", \"Standard deviation\"]\n",
    "acc"
   ]
  },
  {
   "cell_type": "code",
   "execution_count": 35,
   "id": "1ad710e9",
   "metadata": {},
   "outputs": [],
   "source": [
    "# Evaluation of Text Classification Model"
   ]
  },
  {
   "cell_type": "code",
   "execution_count": 110,
   "id": "29fcb740",
   "metadata": {},
   "outputs": [
    {
     "name": "stdout",
     "output_type": "stream",
     "text": [
      "Accuracy: 0.1021\n"
     ]
    }
   ],
   "source": [
    "X_train, X_test, y_train, y_test,indices_train,indices_test = train_test_split(features, labels, df.index, test_size=0.3, random_state=42)\n",
    "model = LinearSVC()\n",
    "model.fit(X_train, y_train)\n",
    "y_pred = model.predict(X_test)\n",
    "print(\"Accuracy: %.4f\" % accuracy_score(y_test, y_pred))"
   ]
  },
  {
   "cell_type": "code",
   "execution_count": 111,
   "id": "92b1a871",
   "metadata": {},
   "outputs": [
    {
     "name": "stdout",
     "output_type": "stream",
     "text": [
      "              precision    recall  f1-score   support\n",
      "\n",
      "         Leo       0.07      0.02      0.03      1126\n",
      " Sagittarius       0.11      0.15      0.13      1359\n",
      "      Taurus       0.10      0.17      0.13      1437\n",
      "      Cancer       0.10      0.10      0.10      1224\n",
      "      Pisces       0.10      0.16      0.13      1324\n",
      "       Virgo       0.12      0.03      0.05      1127\n",
      "    Aquarius       0.12      0.22      0.15      1471\n",
      "       Aries       0.09      0.15      0.11      1334\n",
      "       Libra       0.09      0.02      0.04      1065\n",
      "   Capricorn       0.08      0.03      0.05      1212\n",
      "     Scorpio       0.07      0.04      0.05      1128\n",
      "      Gemini       0.00      0.00      0.00         0\n",
      "\n",
      "   micro avg       0.10      0.11      0.10     13807\n",
      "   macro avg       0.09      0.09      0.08     13807\n",
      "weighted avg       0.10      0.11      0.09     13807\n",
      "\n"
     ]
    },
    {
     "name": "stderr",
     "output_type": "stream",
     "text": [
      "c:\\users\\rahul\\pycharmprojects\\naturallanguageprocessingproject\\venv\\lib\\site-packages\\sklearn\\metrics\\_classification.py:1344: UndefinedMetricWarning: Precision and F-score are ill-defined and being set to 0.0 in labels with no predicted samples. Use `zero_division` parameter to control this behavior.\n",
      "  _warn_prf(average, modifier, msg_start, len(result))\n",
      "c:\\users\\rahul\\pycharmprojects\\naturallanguageprocessingproject\\venv\\lib\\site-packages\\sklearn\\metrics\\_classification.py:1344: UndefinedMetricWarning: Recall and F-score are ill-defined and being set to 0.0 in labels with no true samples. Use `zero_division` parameter to control this behavior.\n",
      "  _warn_prf(average, modifier, msg_start, len(result))\n",
      "c:\\users\\rahul\\pycharmprojects\\naturallanguageprocessingproject\\venv\\lib\\site-packages\\sklearn\\metrics\\_classification.py:1344: UndefinedMetricWarning: Precision and F-score are ill-defined and being set to 0.0 in labels with no predicted samples. Use `zero_division` parameter to control this behavior.\n",
      "  _warn_prf(average, modifier, msg_start, len(result))\n",
      "c:\\users\\rahul\\pycharmprojects\\naturallanguageprocessingproject\\venv\\lib\\site-packages\\sklearn\\metrics\\_classification.py:1344: UndefinedMetricWarning: Recall and F-score are ill-defined and being set to 0.0 in labels with no true samples. Use `zero_division` parameter to control this behavior.\n",
      "  _warn_prf(average, modifier, msg_start, len(result))\n",
      "c:\\users\\rahul\\pycharmprojects\\naturallanguageprocessingproject\\venv\\lib\\site-packages\\sklearn\\metrics\\_classification.py:1344: UndefinedMetricWarning: Precision and F-score are ill-defined and being set to 0.0 in labels with no predicted samples. Use `zero_division` parameter to control this behavior.\n",
      "  _warn_prf(average, modifier, msg_start, len(result))\n",
      "c:\\users\\rahul\\pycharmprojects\\naturallanguageprocessingproject\\venv\\lib\\site-packages\\sklearn\\metrics\\_classification.py:1344: UndefinedMetricWarning: Recall and F-score are ill-defined and being set to 0.0 in labels with no true samples. Use `zero_division` parameter to control this behavior.\n",
      "  _warn_prf(average, modifier, msg_start, len(result))\n"
     ]
    }
   ],
   "source": [
    "# Classification report\n",
    "print(metrics.classification_report(y_test, y_pred, labels=[1,2,3,4,5,6,7,8,9,10,11,12], target_names= df[\"sign\"].unique()))"
   ]
  },
  {
   "cell_type": "code",
   "execution_count": 38,
   "id": "1f9ce4e6",
   "metadata": {},
   "outputs": [],
   "source": [
    "# Now let's plot the confusion matrix to check the miss classified predictions:"
   ]
  },
  {
   "cell_type": "code",
   "execution_count": 88,
   "id": "6062d46f",
   "metadata": {},
   "outputs": [
    {
     "data": {
      "image/png": "[encoded data removed]",
      "text/plain": [
       "<Figure size 640x480 with 2 Axes>"
      ]
     },
     "metadata": {},
     "output_type": "display_data"
    }
   ],
   "source": [
    "conf_mat = confusion_matrix(y_test, y_pred)\n",
    "fig, ax = plt.subplots()\n",
    "sns.heatmap(conf_mat, annot=True, cmap=\"Blues\", fmt='d', xticklabels=sign_id_df.sign.values, yticklabels=sign_id_df.sign.values)\n",
    "plt.ylabel(\"Actual\")\n",
    "plt.xlabel(\"Predicted\")\n",
    "plt.title(\"CONFUSION MATRIX - LinearSVC\", size=12);"
   ]
  },
  {
   "cell_type": "code",
   "execution_count": 40,
   "id": "920528dc",
   "metadata": {},
   "outputs": [],
   "source": [
    "# Prediction"
   ]
  },
  {
   "cell_type": "code",
   "execution_count": 41,
   "id": "5c2f2fad",
   "metadata": {},
   "outputs": [],
   "source": [
    "X_train, X_test, y_train, y_test = train_test_split(X, y, test_size=0.25, random_state=42)\n",
    "\n",
    "tfidf = TfidfVectorizer(sublinear_tf=True, min_df=5, ngram_range=(1,2), stop_words=\"english\")\n",
    "\n",
    "fitted_vectorizer = tfidf.fit(X_train)\n",
    "tfidf_vectorizer_vectors = fitted_vectorizer.transform(X_train)\n",
    "\n",
    "model = LinearSVC().fit(tfidf_vectorizer_vectors, y_train)"
   ]
  },
  {
   "cell_type": "code",
   "execution_count": 42,
   "id": "6546ca37",
   "metadata": {},
   "outputs": [
    {
     "name": "stdout",
     "output_type": "stream",
     "text": [
      "['Libra']\n"
     ]
    }
   ],
   "source": [
    "text = \"       Well Kids. Tonight is the big show.  Actually, it's not really big.  There's only four bands, Planet Smashers, Catch 22, Mustard Plug and Big D and the kids table. That's not that many. I miss Warped Tour.  I'm taking the guys up..too bad I don't think I'm taking god up. That would rock rock rock. If god graces me with his presence tonight, I'll be a happy girl. I'll also be a happy girl if I meet some new boys. That's right. Another song you kids need is 'Long Goodnight,' by the get up kids, and 'I belive in a thing called love,' by the darkness. Those are pretty nifty selections. I actually wanted to catch some sleep before we hit the road, but I don't know if I'll be able too. Ugh. This will be interesting. Esecially because I have a high hate-tred, for ska. Yes, I know. That makes no sense, and why am I going right? Well, put it too you this way, it's a show, and It's in Cleveland, only $10 and I'm going with the guys. I've never been to a show with them. This will be fun! .. I think .. If I don't die in the pit first.  I'm going to go, if anyone wants to come along tonight, your more than welcome. Just bring some powerade and all will be fine.    \"\n",
    "\n",
    "print(model.predict(fitted_vectorizer.transform([text])))"
   ]
  },
  {
   "cell_type": "code",
   "execution_count": 43,
   "id": "7752b72c",
   "metadata": {},
   "outputs": [
    {
     "name": "stdout",
     "output_type": "stream",
     "text": [
      "['Gemini']\n"
     ]
    }
   ],
   "source": [
    "text2 = \"                 today's been crap, havnt felt like this for a while. im hoping its pms lol thats wot im puttin it down to, i think mayb to do with joe, but at least seems to b tlkin to me now... mayb its cos i been happy n hyper for a cple of weeks n its jus impossible to go so long without breakin down n cryin lol. i hate myself sumtimes tho, i feel so weak for lettin small things upset me, im too vulnerable wen it comes to other ppl, its pathetic but i always do it. and now im coming across as a miserable cow. im not, ive been so much better lately. its jus today. and this will pass. tho il be in germany - i dont want to be but o well. n i deserve it sumtimes, im not mean most of the time honest jus realy stupid i dnt intentionaly offend ppl very often, jus my fat ugly mouth. gona stop writin cos jus babbling randomly depressin stuff        \"\n",
    "print(model.predict(fitted_vectorizer.transform([text2])))"
   ]
  },
  {
   "cell_type": "code",
   "execution_count": 44,
   "id": "30b787ea",
   "metadata": {},
   "outputs": [
    {
     "data": {
      "text/plain": [
       "'Gemini'"
      ]
     },
     "execution_count": 44,
     "metadata": {},
     "output_type": "execute_result"
    }
   ],
   "source": [
    "df[\"sign\"][105]"
   ]
  }
 ],
 "metadata": {
  "kernelspec": {
   "display_name": "Python 3 (ipykernel)",
   "language": "python",
   "name": "python3"
  },
  "language_info": {
   "codemirror_mode": {
    "name": "ipython",
    "version": 3
   },
   "file_extension": ".py",
   "mimetype": "text/x-python",
   "name": "python",
   "nbconvert_exporter": "python",
   "pygments_lexer": "ipython3",
   "version": "3.9.5"
  }
 },
 "nbformat": 4,
 "nbformat_minor": 5
}
