{
 "cells": [
  {
   "cell_type": "code",
   "execution_count": 1,
   "id": "0f70dacb",
   "metadata": {},
   "outputs": [
    {
     "name": "stderr",
     "output_type": "stream",
     "text": [
      "[nltk_data] Downloading package stopwords to\n",
      "[nltk_data]     C:\\Users\\rahul\\AppData\\Roaming\\nltk_data...\n",
      "[nltk_data]   Package stopwords is already up-to-date!\n",
      "[nltk_data] Downloading package punkt to\n",
      "[nltk_data]     C:\\Users\\rahul\\AppData\\Roaming\\nltk_data...\n",
      "[nltk_data]   Package punkt is already up-to-date!\n",
      "[nltk_data] Downloading package wordnet to\n",
      "[nltk_data]     C:\\Users\\rahul\\AppData\\Roaming\\nltk_data...\n",
      "[nltk_data]   Package wordnet is already up-to-date!\n"
     ]
    }
   ],
   "source": [
    "import numpy as np\n",
    "import pandas as pd\n",
    "\n",
    "import matplotlib.pyplot as plt\n",
    "import seaborn as sns\n",
    "\n",
    "import string\n",
    "import re\n",
    "\n",
    "import nltk\n",
    "from nltk.corpus import stopwords\n",
    "nltk.download(\"stopwords\")\n",
    "nltk.download(\"punkt\")\n",
    "from nltk.stem import WordNetLemmatizer\n",
    "nltk.download(\"wordnet\")\n",
    "\n",
    "from sklearn.feature_extraction.text import TfidfVectorizer\n",
    "from sklearn.feature_extraction.text import TfidfTransformer\n",
    "from sklearn.model_selection import train_test_split\n",
    "from sklearn.feature_selection import chi2\n",
    "from sklearn.linear_model import LogisticRegression\n",
    "from sklearn.ensemble import RandomForestClassifier\n",
    "from sklearn.svm import LinearSVC\n",
    "from sklearn.naive_bayes import MultinomialNB\n",
    "from sklearn.model_selection import cross_val_score\n",
    "from sklearn.metrics import confusion_matrix, accuracy_score\n",
    "from sklearn import metrics"
   ]
  },
  {
   "cell_type": "code",
   "execution_count": 2,
   "id": "df3a32d8",
   "metadata": {},
   "outputs": [
    {
     "name": "stdout",
     "output_type": "stream",
     "text": [
      "(5000, 7)\n"
     ]
    }
   ],
   "source": [
    "# Loading the dataset\n",
    "df = pd.read_csv(\"../data/raw/blogtext.csv\", nrows=5000)\n",
    "print(df.shape)"
   ]
  },
  {
   "cell_type": "code",
   "execution_count": 3,
   "id": "e55ab06c",
   "metadata": {},
   "outputs": [
    {
     "data": {
      "text/html": [
       "<div>\n",
       "<style scoped>\n",
       "    .dataframe tbody tr th:only-of-type {\n",
       "        vertical-align: middle;\n",
       "    }\n",
       "\n",
       "    .dataframe tbody tr th {\n",
       "        vertical-align: top;\n",
       "    }\n",
       "\n",
       "    .dataframe thead th {\n",
       "        text-align: right;\n",
       "    }\n",
       "</style>\n",
       "<table border=\"1\" class=\"dataframe\">\n",
       "  <thead>\n",
       "    <tr style=\"text-align: right;\">\n",
       "      <th></th>\n",
       "      <th>id</th>\n",
       "      <th>gender</th>\n",
       "      <th>age</th>\n",
       "      <th>topic</th>\n",
       "      <th>sign</th>\n",
       "      <th>date</th>\n",
       "      <th>text</th>\n",
       "    </tr>\n",
       "  </thead>\n",
       "  <tbody>\n",
       "    <tr>\n",
       "      <th>0</th>\n",
       "      <td>2059027</td>\n",
       "      <td>male</td>\n",
       "      <td>15</td>\n",
       "      <td>Student</td>\n",
       "      <td>Leo</td>\n",
       "      <td>14,May,2004</td>\n",
       "      <td>Info has been found (+/- 100 pages,...</td>\n",
       "    </tr>\n",
       "    <tr>\n",
       "      <th>1</th>\n",
       "      <td>2059027</td>\n",
       "      <td>male</td>\n",
       "      <td>15</td>\n",
       "      <td>Student</td>\n",
       "      <td>Leo</td>\n",
       "      <td>13,May,2004</td>\n",
       "      <td>These are the team members:   Drewe...</td>\n",
       "    </tr>\n",
       "    <tr>\n",
       "      <th>2</th>\n",
       "      <td>2059027</td>\n",
       "      <td>male</td>\n",
       "      <td>15</td>\n",
       "      <td>Student</td>\n",
       "      <td>Leo</td>\n",
       "      <td>12,May,2004</td>\n",
       "      <td>In het kader van kernfusie op aarde...</td>\n",
       "    </tr>\n",
       "    <tr>\n",
       "      <th>3</th>\n",
       "      <td>2059027</td>\n",
       "      <td>male</td>\n",
       "      <td>15</td>\n",
       "      <td>Student</td>\n",
       "      <td>Leo</td>\n",
       "      <td>12,May,2004</td>\n",
       "      <td>testing!!!  testing!!!</td>\n",
       "    </tr>\n",
       "    <tr>\n",
       "      <th>4</th>\n",
       "      <td>3581210</td>\n",
       "      <td>male</td>\n",
       "      <td>33</td>\n",
       "      <td>InvestmentBanking</td>\n",
       "      <td>Aquarius</td>\n",
       "      <td>11,June,2004</td>\n",
       "      <td>Thanks to Yahoo!'s Toolbar I can ...</td>\n",
       "    </tr>\n",
       "  </tbody>\n",
       "</table>\n",
       "</div>"
      ],
      "text/plain": [
       "        id gender  age              topic      sign          date  \\\n",
       "0  2059027   male   15            Student       Leo   14,May,2004   \n",
       "1  2059027   male   15            Student       Leo   13,May,2004   \n",
       "2  2059027   male   15            Student       Leo   12,May,2004   \n",
       "3  2059027   male   15            Student       Leo   12,May,2004   \n",
       "4  3581210   male   33  InvestmentBanking  Aquarius  11,June,2004   \n",
       "\n",
       "                                                text  \n",
       "0             Info has been found (+/- 100 pages,...  \n",
       "1             These are the team members:   Drewe...  \n",
       "2             In het kader van kernfusie op aarde...  \n",
       "3                   testing!!!  testing!!!            \n",
       "4               Thanks to Yahoo!'s Toolbar I can ...  "
      ]
     },
     "execution_count": 3,
     "metadata": {},
     "output_type": "execute_result"
    }
   ],
   "source": [
    "df.head()"
   ]
  },
  {
   "cell_type": "code",
   "execution_count": 4,
   "id": "a77d5e00",
   "metadata": {},
   "outputs": [
    {
     "data": {
      "text/plain": [
       "Index(['id', 'gender', 'age', 'topic', 'sign', 'date', 'text'], dtype='object')"
      ]
     },
     "execution_count": 4,
     "metadata": {},
     "output_type": "execute_result"
    }
   ],
   "source": [
    "df.columns"
   ]
  },
  {
   "cell_type": "code",
   "execution_count": 5,
   "id": "7cd45385",
   "metadata": {},
   "outputs": [
    {
     "data": {
      "text/plain": [
       "id        0\n",
       "gender    0\n",
       "age       0\n",
       "topic     0\n",
       "sign      0\n",
       "date      0\n",
       "text      0\n",
       "dtype: int64"
      ]
     },
     "execution_count": 5,
     "metadata": {},
     "output_type": "execute_result"
    }
   ],
   "source": [
    "df.isnull().sum()"
   ]
  },
  {
   "cell_type": "code",
   "execution_count": 6,
   "id": "62b6cfe1",
   "metadata": {},
   "outputs": [
    {
     "data": {
      "text/html": [
       "<div>\n",
       "<style scoped>\n",
       "    .dataframe tbody tr th:only-of-type {\n",
       "        vertical-align: middle;\n",
       "    }\n",
       "\n",
       "    .dataframe tbody tr th {\n",
       "        vertical-align: top;\n",
       "    }\n",
       "\n",
       "    .dataframe thead th {\n",
       "        text-align: right;\n",
       "    }\n",
       "</style>\n",
       "<table border=\"1\" class=\"dataframe\">\n",
       "  <thead>\n",
       "    <tr style=\"text-align: right;\">\n",
       "      <th></th>\n",
       "      <th>count</th>\n",
       "      <th>mean</th>\n",
       "      <th>std</th>\n",
       "      <th>min</th>\n",
       "      <th>25%</th>\n",
       "      <th>50%</th>\n",
       "      <th>75%</th>\n",
       "      <th>max</th>\n",
       "    </tr>\n",
       "  </thead>\n",
       "  <tbody>\n",
       "    <tr>\n",
       "      <th>id</th>\n",
       "      <td>5000.0</td>\n",
       "      <td>1.532153e+06</td>\n",
       "      <td>1.302576e+06</td>\n",
       "      <td>467705.0</td>\n",
       "      <td>589736.0</td>\n",
       "      <td>649790.0</td>\n",
       "      <td>3168577.0</td>\n",
       "      <td>4321554.0</td>\n",
       "    </tr>\n",
       "    <tr>\n",
       "      <th>age</th>\n",
       "      <td>5000.0</td>\n",
       "      <td>2.954460e+01</td>\n",
       "      <td>7.766008e+00</td>\n",
       "      <td>14.0</td>\n",
       "      <td>24.0</td>\n",
       "      <td>35.0</td>\n",
       "      <td>35.0</td>\n",
       "      <td>46.0</td>\n",
       "    </tr>\n",
       "  </tbody>\n",
       "</table>\n",
       "</div>"
      ],
      "text/plain": [
       "      count          mean           std       min       25%       50%  \\\n",
       "id   5000.0  1.532153e+06  1.302576e+06  467705.0  589736.0  649790.0   \n",
       "age  5000.0  2.954460e+01  7.766008e+00      14.0      24.0      35.0   \n",
       "\n",
       "           75%        max  \n",
       "id   3168577.0  4321554.0  \n",
       "age       35.0       46.0  "
      ]
     },
     "execution_count": 6,
     "metadata": {},
     "output_type": "execute_result"
    }
   ],
   "source": [
    "df.describe().T"
   ]
  },
  {
   "cell_type": "code",
   "execution_count": 7,
   "id": "0fd50867",
   "metadata": {},
   "outputs": [
    {
     "name": "stdout",
     "output_type": "stream",
     "text": [
      "<class 'pandas.core.frame.DataFrame'>\n",
      "RangeIndex: 5000 entries, 0 to 4999\n",
      "Data columns (total 7 columns):\n",
      " #   Column  Non-Null Count  Dtype \n",
      "---  ------  --------------  ----- \n",
      " 0   id      5000 non-null   int64 \n",
      " 1   gender  5000 non-null   object\n",
      " 2   age     5000 non-null   int64 \n",
      " 3   topic   5000 non-null   object\n",
      " 4   sign    5000 non-null   object\n",
      " 5   date    5000 non-null   object\n",
      " 6   text    5000 non-null   object\n",
      "dtypes: int64(2), object(5)\n",
      "memory usage: 273.6+ KB\n"
     ]
    }
   ],
   "source": [
    "df.info()"
   ]
  },
  {
   "cell_type": "code",
   "execution_count": 8,
   "id": "4e13566e",
   "metadata": {},
   "outputs": [],
   "source": [
    "# Creating a new dataframe with two columns\n",
    "df = df[[\"sign\", \"text\"]]"
   ]
  },
  {
   "cell_type": "code",
   "execution_count": 9,
   "id": "ca927d49",
   "metadata": {},
   "outputs": [
    {
     "name": "stdout",
     "output_type": "stream",
     "text": [
      "(5000, 2)\n"
     ]
    }
   ],
   "source": [
    "print(df.shape)"
   ]
  },
  {
   "cell_type": "code",
   "execution_count": 10,
   "id": "0c6642e0",
   "metadata": {},
   "outputs": [
    {
     "data": {
      "text/html": [
       "<div>\n",
       "<style scoped>\n",
       "    .dataframe tbody tr th:only-of-type {\n",
       "        vertical-align: middle;\n",
       "    }\n",
       "\n",
       "    .dataframe tbody tr th {\n",
       "        vertical-align: top;\n",
       "    }\n",
       "\n",
       "    .dataframe thead th {\n",
       "        text-align: right;\n",
       "    }\n",
       "</style>\n",
       "<table border=\"1\" class=\"dataframe\">\n",
       "  <thead>\n",
       "    <tr style=\"text-align: right;\">\n",
       "      <th></th>\n",
       "      <th>sign</th>\n",
       "      <th>text</th>\n",
       "    </tr>\n",
       "  </thead>\n",
       "  <tbody>\n",
       "    <tr>\n",
       "      <th>0</th>\n",
       "      <td>Leo</td>\n",
       "      <td>Info has been found (+/- 100 pages, and 4.5 MB of .pdf files) Now i have to wait unti...</td>\n",
       "    </tr>\n",
       "    <tr>\n",
       "      <th>1</th>\n",
       "      <td>Leo</td>\n",
       "      <td>These are the team members:   Drewes van der Laag           urlLink mail  Ruiyu Xie  ...</td>\n",
       "    </tr>\n",
       "    <tr>\n",
       "      <th>2</th>\n",
       "      <td>Leo</td>\n",
       "      <td>In het kader van kernfusie op aarde:  MAAK JE EIGEN WATERSTOFBOM   How to build an H-...</td>\n",
       "    </tr>\n",
       "    <tr>\n",
       "      <th>3</th>\n",
       "      <td>Leo</td>\n",
       "      <td>testing!!!  testing!!!</td>\n",
       "    </tr>\n",
       "    <tr>\n",
       "      <th>4</th>\n",
       "      <td>Aquarius</td>\n",
       "      <td>Thanks to Yahoo!'s Toolbar I can now 'capture' the URLs of popups...which means now...</td>\n",
       "    </tr>\n",
       "  </tbody>\n",
       "</table>\n",
       "</div>"
      ],
      "text/plain": [
       "       sign  \\\n",
       "0       Leo   \n",
       "1       Leo   \n",
       "2       Leo   \n",
       "3       Leo   \n",
       "4  Aquarius   \n",
       "\n",
       "                                                                                                  text  \n",
       "0             Info has been found (+/- 100 pages, and 4.5 MB of .pdf files) Now i have to wait unti...  \n",
       "1             These are the team members:   Drewes van der Laag           urlLink mail  Ruiyu Xie  ...  \n",
       "2             In het kader van kernfusie op aarde:  MAAK JE EIGEN WATERSTOFBOM   How to build an H-...  \n",
       "3                                                                     testing!!!  testing!!!            \n",
       "4               Thanks to Yahoo!'s Toolbar I can now 'capture' the URLs of popups...which means now...  "
      ]
     },
     "execution_count": 10,
     "metadata": {},
     "output_type": "execute_result"
    }
   ],
   "source": [
    "pd.set_option(\"display.max_colwidth\", 100)\n",
    "df.head()"
   ]
  },
  {
   "cell_type": "code",
   "execution_count": 11,
   "id": "9e0ccba7",
   "metadata": {},
   "outputs": [
    {
     "data": {
      "text/plain": [
       "array([['Leo'],\n",
       "       ['Aquarius'],\n",
       "       ['Aries'],\n",
       "       ['Capricorn'],\n",
       "       ['Gemini'],\n",
       "       ['Cancer'],\n",
       "       ['Sagittarius'],\n",
       "       ['Scorpio'],\n",
       "       ['Libra'],\n",
       "       ['Virgo'],\n",
       "       ['Taurus'],\n",
       "       ['Pisces']], dtype=object)"
      ]
     },
     "execution_count": 11,
     "metadata": {},
     "output_type": "execute_result"
    }
   ],
   "source": [
    "# Checking how many unique signs are there\n",
    "pd.DataFrame(df.sign.unique()).values"
   ]
  },
  {
   "cell_type": "code",
   "execution_count": 12,
   "id": "bf2b42f2",
   "metadata": {},
   "outputs": [],
   "source": [
    "# Create a new column 'sign_id' with encoded signs \n",
    "df[\"sign_id\"] = df[\"sign\"].factorize()[0]\n",
    "sign_id_df = df[[\"sign\", \"sign_id\"]].drop_duplicates()"
   ]
  },
  {
   "cell_type": "code",
   "execution_count": 13,
   "id": "9a9f6840",
   "metadata": {},
   "outputs": [
    {
     "data": {
      "text/html": [
       "<div>\n",
       "<style scoped>\n",
       "    .dataframe tbody tr th:only-of-type {\n",
       "        vertical-align: middle;\n",
       "    }\n",
       "\n",
       "    .dataframe tbody tr th {\n",
       "        vertical-align: top;\n",
       "    }\n",
       "\n",
       "    .dataframe thead th {\n",
       "        text-align: right;\n",
       "    }\n",
       "</style>\n",
       "<table border=\"1\" class=\"dataframe\">\n",
       "  <thead>\n",
       "    <tr style=\"text-align: right;\">\n",
       "      <th></th>\n",
       "      <th>sign</th>\n",
       "      <th>text</th>\n",
       "      <th>sign_id</th>\n",
       "    </tr>\n",
       "  </thead>\n",
       "  <tbody>\n",
       "    <tr>\n",
       "      <th>0</th>\n",
       "      <td>Leo</td>\n",
       "      <td>Info has been found (+/- 100 pages, and 4.5 MB of .pdf files) Now i have to wait unti...</td>\n",
       "      <td>0</td>\n",
       "    </tr>\n",
       "    <tr>\n",
       "      <th>1</th>\n",
       "      <td>Leo</td>\n",
       "      <td>These are the team members:   Drewes van der Laag           urlLink mail  Ruiyu Xie  ...</td>\n",
       "      <td>0</td>\n",
       "    </tr>\n",
       "    <tr>\n",
       "      <th>2</th>\n",
       "      <td>Leo</td>\n",
       "      <td>In het kader van kernfusie op aarde:  MAAK JE EIGEN WATERSTOFBOM   How to build an H-...</td>\n",
       "      <td>0</td>\n",
       "    </tr>\n",
       "    <tr>\n",
       "      <th>3</th>\n",
       "      <td>Leo</td>\n",
       "      <td>testing!!!  testing!!!</td>\n",
       "      <td>0</td>\n",
       "    </tr>\n",
       "    <tr>\n",
       "      <th>4</th>\n",
       "      <td>Aquarius</td>\n",
       "      <td>Thanks to Yahoo!'s Toolbar I can now 'capture' the URLs of popups...which means now...</td>\n",
       "      <td>1</td>\n",
       "    </tr>\n",
       "  </tbody>\n",
       "</table>\n",
       "</div>"
      ],
      "text/plain": [
       "       sign  \\\n",
       "0       Leo   \n",
       "1       Leo   \n",
       "2       Leo   \n",
       "3       Leo   \n",
       "4  Aquarius   \n",
       "\n",
       "                                                                                                  text  \\\n",
       "0             Info has been found (+/- 100 pages, and 4.5 MB of .pdf files) Now i have to wait unti...   \n",
       "1             These are the team members:   Drewes van der Laag           urlLink mail  Ruiyu Xie  ...   \n",
       "2             In het kader van kernfusie op aarde:  MAAK JE EIGEN WATERSTOFBOM   How to build an H-...   \n",
       "3                                                                     testing!!!  testing!!!             \n",
       "4               Thanks to Yahoo!'s Toolbar I can now 'capture' the URLs of popups...which means now...   \n",
       "\n",
       "   sign_id  \n",
       "0        0  \n",
       "1        0  \n",
       "2        0  \n",
       "3        0  \n",
       "4        1  "
      ]
     },
     "execution_count": 13,
     "metadata": {},
     "output_type": "execute_result"
    }
   ],
   "source": [
    "# Dictionaries for future use\n",
    "sign_to_id = dict(sign_id_df.values)\n",
    "id_to_sign = dict(sign_id_df[[\"sign_id\", \"sign\"]].values)\n",
    "\n",
    "# New dataframe\n",
    "df.head()"
   ]
  },
  {
   "cell_type": "code",
   "execution_count": 14,
   "id": "461c0847",
   "metadata": {},
   "outputs": [
    {
     "data": {
      "image/png": "[encoded data removed]",
      "text/plain": [
       "<Figure size 640x480 with 1 Axes>"
      ]
     },
     "metadata": {},
     "output_type": "display_data"
    }
   ],
   "source": [
    "# Visualize the data\n",
    "fig = plt.figure()\n",
    "df.groupby(\"sign\").text.count().sort_values().plot.barh(ylim=0)\n",
    "plt.xlabel(\"Number of ocurrences\", fontsize = 10);"
   ]
  },
  {
   "cell_type": "code",
   "execution_count": 15,
   "id": "bcdc53a2",
   "metadata": {},
   "outputs": [],
   "source": [
    "# Pre-processing the \"text\" column"
   ]
  },
  {
   "cell_type": "code",
   "execution_count": 16,
   "id": "3527ffbe",
   "metadata": {},
   "outputs": [
    {
     "data": {
      "text/plain": [
       "'!\"#$%&\\'()*+,-./:;<=>?@[\\\\]^_`{|}~'"
      ]
     },
     "execution_count": 16,
     "metadata": {},
     "output_type": "execute_result"
    }
   ],
   "source": [
    "string.punctuation"
   ]
  },
  {
   "cell_type": "code",
   "execution_count": 17,
   "id": "c7b2a206",
   "metadata": {},
   "outputs": [
    {
     "data": {
      "text/html": [
       "<div>\n",
       "<style scoped>\n",
       "    .dataframe tbody tr th:only-of-type {\n",
       "        vertical-align: middle;\n",
       "    }\n",
       "\n",
       "    .dataframe tbody tr th {\n",
       "        vertical-align: top;\n",
       "    }\n",
       "\n",
       "    .dataframe thead th {\n",
       "        text-align: right;\n",
       "    }\n",
       "</style>\n",
       "<table border=\"1\" class=\"dataframe\">\n",
       "  <thead>\n",
       "    <tr style=\"text-align: right;\">\n",
       "      <th></th>\n",
       "      <th>sign</th>\n",
       "      <th>text</th>\n",
       "      <th>sign_id</th>\n",
       "    </tr>\n",
       "  </thead>\n",
       "  <tbody>\n",
       "    <tr>\n",
       "      <th>0</th>\n",
       "      <td>Leo</td>\n",
       "      <td>Info has been found  100 pages and 45 MB of pdf files Now i have to wait untill our t...</td>\n",
       "      <td>0</td>\n",
       "    </tr>\n",
       "    <tr>\n",
       "      <th>1</th>\n",
       "      <td>Leo</td>\n",
       "      <td>These are the team members   Drewes van der Laag           urlLink mail  Ruiyu Xie   ...</td>\n",
       "      <td>0</td>\n",
       "    </tr>\n",
       "  </tbody>\n",
       "</table>\n",
       "</div>"
      ],
      "text/plain": [
       "  sign  \\\n",
       "0  Leo   \n",
       "1  Leo   \n",
       "\n",
       "                                                                                                  text  \\\n",
       "0             Info has been found  100 pages and 45 MB of pdf files Now i have to wait untill our t...   \n",
       "1             These are the team members   Drewes van der Laag           urlLink mail  Ruiyu Xie   ...   \n",
       "\n",
       "   sign_id  \n",
       "0        0  \n",
       "1        0  "
      ]
     },
     "execution_count": 17,
     "metadata": {},
     "output_type": "execute_result"
    }
   ],
   "source": [
    "# removing punctuation\n",
    "def remove_punctuation(text):\n",
    "    text = \"\".join([c for c in text if c not in string.punctuation])\n",
    "    return text\n",
    "\n",
    "df[\"text\"] = df[\"text\"].apply(lambda x: remove_punctuation(x))\n",
    "df.head(2)"
   ]
  },
  {
   "cell_type": "code",
   "execution_count": 18,
   "id": "4c40c7d6",
   "metadata": {},
   "outputs": [],
   "source": [
    "# removing unwanted characters\n",
    "df[\"text\"] = df[\"text\"].apply(lambda x: re.sub('[^A-Za-z0-9 ]+', \" \", x))"
   ]
  },
  {
   "cell_type": "code",
   "execution_count": 19,
   "id": "ab27a398",
   "metadata": {},
   "outputs": [],
   "source": [
    "# removing whitespaces (begining and trailing spaces)\n",
    "df[\"text\"] = df[\"text\"].apply(lambda x: x.strip())"
   ]
  },
  {
   "cell_type": "code",
   "execution_count": 20,
   "id": "a776f7e3",
   "metadata": {},
   "outputs": [],
   "source": [
    "# replacing more than 1 spaces with single space\n",
    "df[\"text\"] = df[\"text\"].str.replace(r\"\\s\\s+\", \" \")"
   ]
  },
  {
   "cell_type": "code",
   "execution_count": 21,
   "id": "05b0a499",
   "metadata": {},
   "outputs": [
    {
     "data": {
      "text/html": [
       "<div>\n",
       "<style scoped>\n",
       "    .dataframe tbody tr th:only-of-type {\n",
       "        vertical-align: middle;\n",
       "    }\n",
       "\n",
       "    .dataframe tbody tr th {\n",
       "        vertical-align: top;\n",
       "    }\n",
       "\n",
       "    .dataframe thead th {\n",
       "        text-align: right;\n",
       "    }\n",
       "</style>\n",
       "<table border=\"1\" class=\"dataframe\">\n",
       "  <thead>\n",
       "    <tr style=\"text-align: right;\">\n",
       "      <th></th>\n",
       "      <th>sign</th>\n",
       "      <th>text</th>\n",
       "      <th>sign_id</th>\n",
       "    </tr>\n",
       "  </thead>\n",
       "  <tbody>\n",
       "    <tr>\n",
       "      <th>0</th>\n",
       "      <td>Leo</td>\n",
       "      <td>[info, has, been, found, 100, pages, and, 45, mb, of, pdf, files, now, i, have, to, wait, untill...</td>\n",
       "      <td>0</td>\n",
       "    </tr>\n",
       "    <tr>\n",
       "      <th>1</th>\n",
       "      <td>Leo</td>\n",
       "      <td>[these, are, the, team, members, drewes, van, der, laag, urllink, mail, ruiyu, xie, urllink, mai...</td>\n",
       "      <td>0</td>\n",
       "    </tr>\n",
       "    <tr>\n",
       "      <th>2</th>\n",
       "      <td>Leo</td>\n",
       "      <td>[in, het, kader, van, kernfusie, op, aarde, maak, je, eigen, waterstofbom, how, to, build, an, h...</td>\n",
       "      <td>0</td>\n",
       "    </tr>\n",
       "    <tr>\n",
       "      <th>3</th>\n",
       "      <td>Leo</td>\n",
       "      <td>[testing, testing]</td>\n",
       "      <td>0</td>\n",
       "    </tr>\n",
       "    <tr>\n",
       "      <th>4</th>\n",
       "      <td>Aquarius</td>\n",
       "      <td>[thanks, to, yahoos, toolbar, i, can, now, capture, the, urls, of, popupswhich, means, now, i, c...</td>\n",
       "      <td>1</td>\n",
       "    </tr>\n",
       "  </tbody>\n",
       "</table>\n",
       "</div>"
      ],
      "text/plain": [
       "       sign  \\\n",
       "0       Leo   \n",
       "1       Leo   \n",
       "2       Leo   \n",
       "3       Leo   \n",
       "4  Aquarius   \n",
       "\n",
       "                                                                                                  text  \\\n",
       "0  [info, has, been, found, 100, pages, and, 45, mb, of, pdf, files, now, i, have, to, wait, untill...   \n",
       "1  [these, are, the, team, members, drewes, van, der, laag, urllink, mail, ruiyu, xie, urllink, mai...   \n",
       "2  [in, het, kader, van, kernfusie, op, aarde, maak, je, eigen, waterstofbom, how, to, build, an, h...   \n",
       "3                                                                                   [testing, testing]   \n",
       "4  [thanks, to, yahoos, toolbar, i, can, now, capture, the, urls, of, popupswhich, means, now, i, c...   \n",
       "\n",
       "   sign_id  \n",
       "0        0  \n",
       "1        0  \n",
       "2        0  \n",
       "3        0  \n",
       "4        1  "
      ]
     },
     "execution_count": 21,
     "metadata": {},
     "output_type": "execute_result"
    }
   ],
   "source": [
    "# tokenization\n",
    "def tokenize(text):\n",
    "    tokens = re.split(\"\\W+\", text)\n",
    "    return tokens\n",
    "\n",
    "df[\"text\"] = df[\"text\"].apply(lambda x: tokenize(x.lower()))\n",
    "df.head()"
   ]
  },
  {
   "cell_type": "code",
   "execution_count": 22,
   "id": "c88dac5a",
   "metadata": {},
   "outputs": [
    {
     "data": {
      "text/plain": [
       "['i', 'me', 'my', 'myself', 'we', 'our', 'ours', 'ourselves', 'you', \"you're\"]"
      ]
     },
     "execution_count": 22,
     "metadata": {},
     "output_type": "execute_result"
    }
   ],
   "source": [
    "# removing stopwords\n",
    "stopwords = nltk.corpus.stopwords.words(\"english\")\n",
    "stopwords[0:10]"
   ]
  },
  {
   "cell_type": "code",
   "execution_count": 23,
   "id": "a55cd480",
   "metadata": {},
   "outputs": [
    {
     "data": {
      "text/html": [
       "<div>\n",
       "<style scoped>\n",
       "    .dataframe tbody tr th:only-of-type {\n",
       "        vertical-align: middle;\n",
       "    }\n",
       "\n",
       "    .dataframe tbody tr th {\n",
       "        vertical-align: top;\n",
       "    }\n",
       "\n",
       "    .dataframe thead th {\n",
       "        text-align: right;\n",
       "    }\n",
       "</style>\n",
       "<table border=\"1\" class=\"dataframe\">\n",
       "  <thead>\n",
       "    <tr style=\"text-align: right;\">\n",
       "      <th></th>\n",
       "      <th>sign</th>\n",
       "      <th>text</th>\n",
       "      <th>sign_id</th>\n",
       "    </tr>\n",
       "  </thead>\n",
       "  <tbody>\n",
       "    <tr>\n",
       "      <th>0</th>\n",
       "      <td>Leo</td>\n",
       "      <td>[info, found, 100, pages, 45, mb, pdf, files, wait, untill, team, leader, processed, learns, html]</td>\n",
       "      <td>0</td>\n",
       "    </tr>\n",
       "    <tr>\n",
       "      <th>1</th>\n",
       "      <td>Leo</td>\n",
       "      <td>[team, members, drewes, van, der, laag, urllink, mail, ruiyu, xie, urllink, mail, bryan, aalderi...</td>\n",
       "      <td>0</td>\n",
       "    </tr>\n",
       "    <tr>\n",
       "      <th>2</th>\n",
       "      <td>Leo</td>\n",
       "      <td>[het, kader, van, kernfusie, op, aarde, maak, je, eigen, waterstofbom, build, hbomb, ascotttarta...</td>\n",
       "      <td>0</td>\n",
       "    </tr>\n",
       "    <tr>\n",
       "      <th>3</th>\n",
       "      <td>Leo</td>\n",
       "      <td>[testing, testing]</td>\n",
       "      <td>0</td>\n",
       "    </tr>\n",
       "    <tr>\n",
       "      <th>4</th>\n",
       "      <td>Aquarius</td>\n",
       "      <td>[thanks, yahoos, toolbar, capture, urls, popupswhich, means, show, cool, links, korean, pop, kpo...</td>\n",
       "      <td>1</td>\n",
       "    </tr>\n",
       "  </tbody>\n",
       "</table>\n",
       "</div>"
      ],
      "text/plain": [
       "       sign  \\\n",
       "0       Leo   \n",
       "1       Leo   \n",
       "2       Leo   \n",
       "3       Leo   \n",
       "4  Aquarius   \n",
       "\n",
       "                                                                                                  text  \\\n",
       "0   [info, found, 100, pages, 45, mb, pdf, files, wait, untill, team, leader, processed, learns, html]   \n",
       "1  [team, members, drewes, van, der, laag, urllink, mail, ruiyu, xie, urllink, mail, bryan, aalderi...   \n",
       "2  [het, kader, van, kernfusie, op, aarde, maak, je, eigen, waterstofbom, build, hbomb, ascotttarta...   \n",
       "3                                                                                   [testing, testing]   \n",
       "4  [thanks, yahoos, toolbar, capture, urls, popupswhich, means, show, cool, links, korean, pop, kpo...   \n",
       "\n",
       "   sign_id  \n",
       "0        0  \n",
       "1        0  \n",
       "2        0  \n",
       "3        0  \n",
       "4        1  "
      ]
     },
     "execution_count": 23,
     "metadata": {},
     "output_type": "execute_result"
    }
   ],
   "source": [
    "def remove_stopwords(text):\n",
    "    text = [word for word in text if word not in stopwords]\n",
    "    return text\n",
    "\n",
    "df[\"text\"] = df[\"text\"].apply(lambda x: remove_stopwords(x))\n",
    "df.head()"
   ]
  },
  {
   "cell_type": "code",
   "execution_count": 24,
   "id": "7ab11f9d",
   "metadata": {},
   "outputs": [],
   "source": [
    "wn = nltk.WordNetLemmatizer()"
   ]
  },
  {
   "cell_type": "code",
   "execution_count": 25,
   "id": "f9273802",
   "metadata": {},
   "outputs": [
    {
     "data": {
      "text/html": [
       "<div>\n",
       "<style scoped>\n",
       "    .dataframe tbody tr th:only-of-type {\n",
       "        vertical-align: middle;\n",
       "    }\n",
       "\n",
       "    .dataframe tbody tr th {\n",
       "        vertical-align: top;\n",
       "    }\n",
       "\n",
       "    .dataframe thead th {\n",
       "        text-align: right;\n",
       "    }\n",
       "</style>\n",
       "<table border=\"1\" class=\"dataframe\">\n",
       "  <thead>\n",
       "    <tr style=\"text-align: right;\">\n",
       "      <th></th>\n",
       "      <th>sign</th>\n",
       "      <th>text</th>\n",
       "      <th>sign_id</th>\n",
       "    </tr>\n",
       "  </thead>\n",
       "  <tbody>\n",
       "    <tr>\n",
       "      <th>0</th>\n",
       "      <td>Leo</td>\n",
       "      <td>info found 100 page 45 mb pdf file wait untill team leader processed learns html</td>\n",
       "      <td>0</td>\n",
       "    </tr>\n",
       "    <tr>\n",
       "      <th>1</th>\n",
       "      <td>Leo</td>\n",
       "      <td>team member drewes van der laag urllink mail ruiyu xie urllink mail bryan aaldering urllink mail</td>\n",
       "      <td>0</td>\n",
       "    </tr>\n",
       "    <tr>\n",
       "      <th>2</th>\n",
       "      <td>Leo</td>\n",
       "      <td>het kader van kernfusie op aarde maak je eigen waterstofbom build hbomb ascotttartarusuwaeduau a...</td>\n",
       "      <td>0</td>\n",
       "    </tr>\n",
       "    <tr>\n",
       "      <th>3</th>\n",
       "      <td>Leo</td>\n",
       "      <td>testing testing</td>\n",
       "      <td>0</td>\n",
       "    </tr>\n",
       "    <tr>\n",
       "      <th>4</th>\n",
       "      <td>Aquarius</td>\n",
       "      <td>thanks yahoo toolbar capture url popupswhich mean show cool link korean pop kpop audio video wit...</td>\n",
       "      <td>1</td>\n",
       "    </tr>\n",
       "  </tbody>\n",
       "</table>\n",
       "</div>"
      ],
      "text/plain": [
       "       sign  \\\n",
       "0       Leo   \n",
       "1       Leo   \n",
       "2       Leo   \n",
       "3       Leo   \n",
       "4  Aquarius   \n",
       "\n",
       "                                                                                                  text  \\\n",
       "0                     info found 100 page 45 mb pdf file wait untill team leader processed learns html   \n",
       "1     team member drewes van der laag urllink mail ruiyu xie urllink mail bryan aaldering urllink mail   \n",
       "2  het kader van kernfusie op aarde maak je eigen waterstofbom build hbomb ascotttartarusuwaeduau a...   \n",
       "3                                                                                      testing testing   \n",
       "4  thanks yahoo toolbar capture url popupswhich mean show cool link korean pop kpop audio video wit...   \n",
       "\n",
       "   sign_id  \n",
       "0        0  \n",
       "1        0  \n",
       "2        0  \n",
       "3        0  \n",
       "4        1  "
      ]
     },
     "execution_count": 25,
     "metadata": {},
     "output_type": "execute_result"
    }
   ],
   "source": [
    "# lemmatization\n",
    "def lemmatization(text):\n",
    "    text = [wn.lemmatize(word) for word in text]\n",
    "    return \" \".join(text)\n",
    "\n",
    "df[\"text\"] = df[\"text\"].apply(lambda x: lemmatization(x))\n",
    "df.head()"
   ]
  },
  {
   "cell_type": "code",
   "execution_count": 26,
   "id": "0ac15273",
   "metadata": {},
   "outputs": [],
   "source": [
    "# Further Text processing using TF-IDF"
   ]
  },
  {
   "cell_type": "code",
   "execution_count": 27,
   "id": "d480df68",
   "metadata": {},
   "outputs": [],
   "source": [
    "tfidf = TfidfVectorizer(sublinear_tf=True, min_df=5, ngram_range=(1,2), stop_words=\"english\")"
   ]
  },
  {
   "cell_type": "code",
   "execution_count": 28,
   "id": "9a697b64",
   "metadata": {},
   "outputs": [
    {
     "data": {
      "text/plain": [
       "(5000, 9773)"
      ]
     },
     "execution_count": 28,
     "metadata": {},
     "output_type": "execute_result"
    }
   ],
   "source": [
    "# Transforming each text into a vector\n",
    "features = tfidf.fit_transform(df.text).toarray()\n",
    "labels = df.sign_id\n",
    "features.shape"
   ]
  },
  {
   "cell_type": "code",
   "execution_count": 29,
   "id": "3e82284e",
   "metadata": {},
   "outputs": [
    {
     "name": "stdout",
     "output_type": "stream",
     "text": [
      "n--> Aquarius:\n",
      "  * Most Correlated Unigrams are: seoul, korean\n",
      "  * Most Correlated Bigrams are: talked hour, urllink joongang\n",
      "n--> Aries:\n",
      "  * Most Correlated Unigrams are: ben, diva\n",
      "  * Most Correlated Bigrams are: urllink quizilla, brought urllink\n",
      "n--> Cancer:\n",
      "  * Most Correlated Unigrams are: employer, resume\n",
      "  * Most Correlated Bigrams are: cover letter, urllink resume\n",
      "n--> Capricorn:\n",
      "  * Most Correlated Unigrams are: golf, bc\n",
      "  * Most Correlated Bigrams are: college football, fantasy baseball\n",
      "n--> Gemini:\n",
      "  * Most Correlated Unigrams are: gona, hav\n",
      "  * Most Correlated Bigrams are: tampa bay, bought new\n",
      "n--> Leo:\n",
      "  * Most Correlated Unigrams are: lyk, reali\n",
      "  * Most Correlated Bigrams are: sex city, wanted post\n",
      "n--> Libra:\n",
      "  * Most Correlated Unigrams are: clue, tomarrow\n",
      "  * Most Correlated Bigrams are: pick flick, im gonna\n",
      "n--> Pisces:\n",
      "  * Most Correlated Unigrams are: brought, quizilla\n",
      "  * Most Correlated Bigrams are: brought urllink, urllink quizilla\n",
      "n--> Sagittarius:\n",
      "  * Most Correlated Unigrams are: miami, diva\n",
      "  * Most Correlated Bigrams are: wine club, audio post\n",
      "n--> Scorpio:\n",
      "  * Most Correlated Unigrams are: zmx, coz\n",
      "  * Most Correlated Bigrams are: tell im, silly song\n",
      "n--> Taurus:\n",
      "  * Most Correlated Unigrams are: sox, marcus\n",
      "  * Most Correlated Bigrams are: posted urllink, red sox\n",
      "n--> Virgo:\n",
      "  * Most Correlated Unigrams are: kerrys, jeff\n",
      "  * Most Correlated Bigrams are: democratic national, till time\n"
     ]
    }
   ],
   "source": [
    "# Finding the two most correlated terms with each of the sign categories\n",
    "N = 2\n",
    "for sign, sign_id in sorted(sign_to_id.items()):\n",
    "    features_chi2 = chi2(features, labels == sign_id)\n",
    "    indices = np.argsort(features_chi2[0])\n",
    "    feature_names = np.array(tfidf.get_feature_names_out())[indices]\n",
    "    unigrams = [v for v in feature_names if len(v.split(\" \")) == 1]\n",
    "    bigrams = [v for v in feature_names if len(v.split(\" \")) == 2]\n",
    "    print(\"n--> %s:\" %(sign))\n",
    "    print(\"  * Most Correlated Unigrams are: %s\" %(\", \".join(unigrams[-N:])))\n",
    "    print(\"  * Most Correlated Bigrams are: %s\" %(\", \".join(bigrams[-N:])))"
   ]
  },
  {
   "cell_type": "code",
   "execution_count": 30,
   "id": "45f2f6ab",
   "metadata": {},
   "outputs": [],
   "source": [
    "# Multi-classification Modeling"
   ]
  },
  {
   "cell_type": "code",
   "execution_count": 31,
   "id": "c1e78d39",
   "metadata": {},
   "outputs": [],
   "source": [
    "X = df[\"text\"] # Collection of blogs\n",
    "y = df[\"sign\"] # Target or the labels we want to predict (i.e. the 12 different zodiac signs)\n",
    "X_train, X_test, y_train, y_test = train_test_split(X, y, test_size=0.25, random_state = 42)"
   ]
  },
  {
   "cell_type": "code",
   "execution_count": 32,
   "id": "a2ff43d1",
   "metadata": {},
   "outputs": [],
   "source": [
    "models = [\n",
    "    RandomForestClassifier(n_estimators=100, random_state=42),\n",
    "    LinearSVC(),\n",
    "    MultinomialNB(),\n",
    "    LogisticRegression(random_state=42),\n",
    "]\n",
    "# Cross-validation\n",
    "CV = 5\n",
    "cv_df = pd.DataFrame(index=range(CV * len(models)))\n",
    "entries = []\n",
    "for model in models:   \n",
    "    model_name = model.__class__.__name__\n",
    "    accuracies = cross_val_score(model, features, labels, scoring=\"accuracy\", cv=CV)\n",
    "    for fold_idx, accuracy in enumerate(accuracies):\n",
    "        entries.append((model_name, fold_idx, accuracy))\n",
    "cv_df = pd.DataFrame(entries, columns=[\"model_name\", \"fold_idx\", \"accuracy\"])"
   ]
  },
  {
   "cell_type": "code",
   "execution_count": 33,
   "id": "cba8e630",
   "metadata": {},
   "outputs": [],
   "source": [
    "# Compare Text Classification Model performance"
   ]
  },
  {
   "cell_type": "code",
   "execution_count": 34,
   "id": "abfc93a1",
   "metadata": {},
   "outputs": [
    {
     "data": {
      "text/html": [
       "<div>\n",
       "<style scoped>\n",
       "    .dataframe tbody tr th:only-of-type {\n",
       "        vertical-align: middle;\n",
       "    }\n",
       "\n",
       "    .dataframe tbody tr th {\n",
       "        vertical-align: top;\n",
       "    }\n",
       "\n",
       "    .dataframe thead th {\n",
       "        text-align: right;\n",
       "    }\n",
       "</style>\n",
       "<table border=\"1\" class=\"dataframe\">\n",
       "  <thead>\n",
       "    <tr style=\"text-align: right;\">\n",
       "      <th></th>\n",
       "      <th>Mean Accuracy</th>\n",
       "      <th>Standard deviation</th>\n",
       "    </tr>\n",
       "    <tr>\n",
       "      <th>model_name</th>\n",
       "      <th></th>\n",
       "      <th></th>\n",
       "    </tr>\n",
       "  </thead>\n",
       "  <tbody>\n",
       "    <tr>\n",
       "      <th>LinearSVC</th>\n",
       "      <td>0.6590</td>\n",
       "      <td>0.077444</td>\n",
       "    </tr>\n",
       "    <tr>\n",
       "      <th>LogisticRegression</th>\n",
       "      <td>0.6226</td>\n",
       "      <td>0.048351</td>\n",
       "    </tr>\n",
       "    <tr>\n",
       "      <th>MultinomialNB</th>\n",
       "      <td>0.5230</td>\n",
       "      <td>0.014440</td>\n",
       "    </tr>\n",
       "    <tr>\n",
       "      <th>RandomForestClassifier</th>\n",
       "      <td>0.6044</td>\n",
       "      <td>0.057152</td>\n",
       "    </tr>\n",
       "  </tbody>\n",
       "</table>\n",
       "</div>"
      ],
      "text/plain": [
       "                        Mean Accuracy  Standard deviation\n",
       "model_name                                               \n",
       "LinearSVC                      0.6590            0.077444\n",
       "LogisticRegression             0.6226            0.048351\n",
       "MultinomialNB                  0.5230            0.014440\n",
       "RandomForestClassifier         0.6044            0.057152"
      ]
     },
     "execution_count": 34,
     "metadata": {},
     "output_type": "execute_result"
    }
   ],
   "source": [
    "mean_accuracy = cv_df.groupby(\"model_name\").accuracy.mean()\n",
    "std_accuracy = cv_df.groupby(\"model_name\").accuracy.std()\n",
    "\n",
    "acc = pd.concat([mean_accuracy, std_accuracy], axis=1, ignore_index=True)\n",
    "acc.columns = [\"Mean Accuracy\", \"Standard deviation\"]\n",
    "acc"
   ]
  },
  {
   "cell_type": "code",
   "execution_count": 35,
   "id": "1ad710e9",
   "metadata": {},
   "outputs": [],
   "source": [
    "# Evaluation of Text Classification Model"
   ]
  },
  {
   "cell_type": "code",
   "execution_count": 36,
   "id": "29fcb740",
   "metadata": {},
   "outputs": [
    {
     "name": "stdout",
     "output_type": "stream",
     "text": [
      "0.7216\n"
     ]
    }
   ],
   "source": [
    "X_train, X_test, y_train, y_test,indices_train,indices_test = train_test_split(features, labels, df.index, test_size=0.25, random_state=42)\n",
    "model = LinearSVC()\n",
    "model.fit(X_train, y_train)\n",
    "y_pred = model.predict(X_test)\n",
    "print(accuracy_score(y_test, y_pred))"
   ]
  },
  {
   "cell_type": "code",
   "execution_count": 37,
   "id": "92b1a871",
   "metadata": {},
   "outputs": [
    {
     "name": "stdout",
     "output_type": "stream",
     "text": [
      "              precision    recall  f1-score   support\n",
      "\n",
      "         Leo       0.66      0.40      0.50        99\n",
      "    Aquarius       0.72      0.95      0.82       610\n",
      "       Aries       0.86      0.63      0.73        19\n",
      "   Capricorn       0.33      0.04      0.07        24\n",
      "      Gemini       0.83      0.40      0.54        25\n",
      "      Cancer       0.76      0.65      0.70       159\n",
      " Sagittarius       0.76      0.47      0.58       111\n",
      "     Scorpio       0.69      0.68      0.69       106\n",
      "       Libra       0.00      0.00      0.00         7\n",
      "       Virgo       0.71      0.36      0.48        28\n",
      "      Taurus       0.67      0.25      0.36        16\n",
      "      Pisces       0.00      0.00      0.00         0\n",
      "\n",
      "   micro avg       0.72      0.74      0.73      1204\n",
      "   macro avg       0.58      0.40      0.46      1204\n",
      "weighted avg       0.71      0.74      0.70      1204\n",
      "\n"
     ]
    },
    {
     "name": "stderr",
     "output_type": "stream",
     "text": [
      "c:\\users\\rahul\\pycharmprojects\\naturallanguageprocessingproject\\venv\\lib\\site-packages\\sklearn\\metrics\\_classification.py:1344: UndefinedMetricWarning: Precision and F-score are ill-defined and being set to 0.0 in labels with no predicted samples. Use `zero_division` parameter to control this behavior.\n",
      "  _warn_prf(average, modifier, msg_start, len(result))\n",
      "c:\\users\\rahul\\pycharmprojects\\naturallanguageprocessingproject\\venv\\lib\\site-packages\\sklearn\\metrics\\_classification.py:1344: UndefinedMetricWarning: Recall and F-score are ill-defined and being set to 0.0 in labels with no true samples. Use `zero_division` parameter to control this behavior.\n",
      "  _warn_prf(average, modifier, msg_start, len(result))\n",
      "c:\\users\\rahul\\pycharmprojects\\naturallanguageprocessingproject\\venv\\lib\\site-packages\\sklearn\\metrics\\_classification.py:1344: UndefinedMetricWarning: Precision and F-score are ill-defined and being set to 0.0 in labels with no predicted samples. Use `zero_division` parameter to control this behavior.\n",
      "  _warn_prf(average, modifier, msg_start, len(result))\n",
      "c:\\users\\rahul\\pycharmprojects\\naturallanguageprocessingproject\\venv\\lib\\site-packages\\sklearn\\metrics\\_classification.py:1344: UndefinedMetricWarning: Recall and F-score are ill-defined and being set to 0.0 in labels with no true samples. Use `zero_division` parameter to control this behavior.\n",
      "  _warn_prf(average, modifier, msg_start, len(result))\n",
      "c:\\users\\rahul\\pycharmprojects\\naturallanguageprocessingproject\\venv\\lib\\site-packages\\sklearn\\metrics\\_classification.py:1344: UndefinedMetricWarning: Precision and F-score are ill-defined and being set to 0.0 in labels with no predicted samples. Use `zero_division` parameter to control this behavior.\n",
      "  _warn_prf(average, modifier, msg_start, len(result))\n",
      "c:\\users\\rahul\\pycharmprojects\\naturallanguageprocessingproject\\venv\\lib\\site-packages\\sklearn\\metrics\\_classification.py:1344: UndefinedMetricWarning: Recall and F-score are ill-defined and being set to 0.0 in labels with no true samples. Use `zero_division` parameter to control this behavior.\n",
      "  _warn_prf(average, modifier, msg_start, len(result))\n"
     ]
    }
   ],
   "source": [
    "# Classification report\n",
    "print(metrics.classification_report(y_test, y_pred, labels=[1,2,3,4,5,6,7,8,9,10,11,12], target_names= df[\"sign\"].unique()))"
   ]
  },
  {
   "cell_type": "code",
   "execution_count": 38,
   "id": "1f9ce4e6",
   "metadata": {},
   "outputs": [],
   "source": [
    "# Now let's plot the confusion matrix to check the miss classified predictions:"
   ]
  },
  {
   "cell_type": "code",
   "execution_count": 39,
   "id": "6062d46f",
   "metadata": {},
   "outputs": [
    {
     "data": {
      "image/png": "[encoded data removed]",
      "text/plain": [
       "<Figure size 640x480 with 2 Axes>"
      ]
     },
     "metadata": {},
     "output_type": "display_data"
    }
   ],
   "source": [
    "conf_mat = confusion_matrix(y_test, y_pred)\n",
    "fig, ax = plt.subplots()\n",
    "sns.heatmap(conf_mat, annot=True, cmap=\"Blues\", fmt='d', xticklabels=sign_id_df.sign.values, yticklabels=sign_id_df.sign.values)\n",
    "plt.ylabel(\"Actual\")\n",
    "plt.xlabel(\"Predicted\")\n",
    "plt.title(\"CONFUSION MATRIX - LinearSVC\", size=12);"
   ]
  },
  {
   "cell_type": "code",
   "execution_count": 40,
   "id": "920528dc",
   "metadata": {},
   "outputs": [],
   "source": [
    "# Prediction"
   ]
  },
  {
   "cell_type": "code",
   "execution_count": 41,
   "id": "5c2f2fad",
   "metadata": {},
   "outputs": [],
   "source": [
    "X_train, X_test, y_train, y_test = train_test_split(X, y, test_size=0.25, random_state=42)\n",
    "\n",
    "tfidf = TfidfVectorizer(sublinear_tf=True, min_df=5, ngram_range=(1,2), stop_words=\"english\")\n",
    "\n",
    "fitted_vectorizer = tfidf.fit(X_train)\n",
    "tfidf_vectorizer_vectors = fitted_vectorizer.transform(X_train)\n",
    "\n",
    "model = LinearSVC().fit(tfidf_vectorizer_vectors, y_train)"
   ]
  },
  {
   "cell_type": "code",
   "execution_count": 42,
   "id": "6546ca37",
   "metadata": {},
   "outputs": [
    {
     "name": "stdout",
     "output_type": "stream",
     "text": [
      "['Libra']\n"
     ]
    }
   ],
   "source": [
    "text = \"       Well Kids. Tonight is the big show.  Actually, it's not really big.  There's only four bands, Planet Smashers, Catch 22, Mustard Plug and Big D and the kids table. That's not that many. I miss Warped Tour.  I'm taking the guys up..too bad I don't think I'm taking god up. That would rock rock rock. If god graces me with his presence tonight, I'll be a happy girl. I'll also be a happy girl if I meet some new boys. That's right. Another song you kids need is 'Long Goodnight,' by the get up kids, and 'I belive in a thing called love,' by the darkness. Those are pretty nifty selections. I actually wanted to catch some sleep before we hit the road, but I don't know if I'll be able too. Ugh. This will be interesting. Esecially because I have a high hate-tred, for ska. Yes, I know. That makes no sense, and why am I going right? Well, put it too you this way, it's a show, and It's in Cleveland, only $10 and I'm going with the guys. I've never been to a show with them. This will be fun! .. I think .. If I don't die in the pit first.  I'm going to go, if anyone wants to come along tonight, your more than welcome. Just bring some powerade and all will be fine.    \"\n",
    "\n",
    "print(model.predict(fitted_vectorizer.transform([text])))"
   ]
  },
  {
   "cell_type": "code",
   "execution_count": null,
   "id": "7752b72c",
   "metadata": {},
   "outputs": [],
   "source": []
  }
 ],
 "metadata": {
  "kernelspec": {
   "display_name": "Python 3 (ipykernel)",
   "language": "python",
   "name": "python3"
  },
  "language_info": {
   "codemirror_mode": {
    "name": "ipython",
    "version": 3
   },
   "file_extension": ".py",
   "mimetype": "text/x-python",
   "name": "python",
   "nbconvert_exporter": "python",
   "pygments_lexer": "ipython3",
   "version": "3.9.5"
  }
 },
 "nbformat": 4,
 "nbformat_minor": 5
}
